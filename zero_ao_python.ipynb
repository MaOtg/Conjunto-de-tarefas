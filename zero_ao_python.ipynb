{
  "cells": [
    {
      "cell_type": "markdown",
      "metadata": {
        "id": "view-in-github",
        "colab_type": "text"
      },
      "source": [
        "<a href=\"https://colab.research.google.com/github/MaOtg/Conjunto-de-tarefas/blob/main/zero_ao_python.ipynb\" target=\"_parent\"><img src=\"https://colab.research.google.com/assets/colab-badge.svg\" alt=\"Open In Colab\"/></a>"
      ]
    },
    {
      "cell_type": "markdown",
      "metadata": {
        "id": "XkC_t2kgu-PF"
      },
      "source": [
        "# `Várias coisas`"
      ]
    },
    {
      "cell_type": "code",
      "execution_count": null,
      "metadata": {
        "colab": {
          "base_uri": "https://localhost:8080/",
          "height": 281
        },
        "id": "5RAXILlz5r-Z",
        "outputId": "b0d55dfe-f5c4-46db-a25f-cd460194f104"
      },
      "outputs": [
        {
          "name": "stdout",
          "output_type": "stream",
          "text": [
            "Insira a base: 30\n",
            "Insira o expoente: 6\n"
          ]
        },
        {
          "output_type": "error",
          "ename": "KeyboardInterrupt",
          "evalue": "ignored",
          "traceback": [
            "\u001b[0;31m---------------------------------------------------------------------------\u001b[0m",
            "\u001b[0;31mKeyboardInterrupt\u001b[0m                         Traceback (most recent call last)",
            "\u001b[0;32m<ipython-input-4-fe86513db1aa>\u001b[0m in \u001b[0;36m<cell line: 20>\u001b[0;34m()\u001b[0m\n\u001b[1;32m     19\u001b[0m \u001b[0;34m\u001b[0m\u001b[0m\n\u001b[1;32m     20\u001b[0m \u001b[0;32mwhile\u001b[0m \u001b[0mprocesso\u001b[0m \u001b[0;34m<=\u001b[0m \u001b[0mexpoente\u001b[0m\u001b[0;34m:\u001b[0m\u001b[0;34m\u001b[0m\u001b[0;34m\u001b[0m\u001b[0m\n\u001b[0;32m---> 21\u001b[0;31m   \u001b[0;32mwhile\u001b[0m \u001b[0mlen\u001b[0m\u001b[0;34m(\u001b[0m\u001b[0mresult\u001b[0m\u001b[0;34m)\u001b[0m \u001b[0;34m!=\u001b[0m \u001b[0mbase\u001b[0m\u001b[0;34m:\u001b[0m\u001b[0;34m\u001b[0m\u001b[0;34m\u001b[0m\u001b[0m\n\u001b[0m\u001b[1;32m     22\u001b[0m     \u001b[0mresult\u001b[0m \u001b[0;34m+=\u001b[0m \u001b[0mresultado\u001b[0m\u001b[0;34m\u001b[0m\u001b[0;34m\u001b[0m\u001b[0m\n\u001b[1;32m     23\u001b[0m \u001b[0;31m# base = base * basef\u001b[0m\u001b[0;34m\u001b[0m\u001b[0;34m\u001b[0m\u001b[0m\n",
            "\u001b[0;31mKeyboardInterrupt\u001b[0m: "
          ]
        }
      ],
      "source": [
        "base = int (input('Insira a base: '))\n",
        "basef = base\n",
        "expoente = int (input('Insira o expoente: '))\n",
        "processo = 3\n",
        "processf = processo\n",
        "lista = ()\n",
        "termo = ()\n",
        "test = 0\n",
        "\n",
        "while len(termo) <= base - 1:\n",
        "  termo += base,\n",
        "# print(termo)\n",
        "\n",
        "while len(lista) <= base - 1:\n",
        "  lista += termo\n",
        "  resultado = sum(lista),\n",
        "# print(lista)\n",
        "result = resultado\n",
        "\n",
        "while processo <= expoente:\n",
        "  while len(result) != base:\n",
        "    result += resultado\n",
        "# base = base * basef\n",
        "  test1 = test\n",
        "  for _ in range(basef):\n",
        "    test += base\n",
        "  base = test\n",
        "  if processo > processf:\n",
        "    base -= test1\n",
        "# base = soma a base o número de vezes da primeria base\n",
        "# resolver o problema da multiplicação que n devia existir\n",
        "# print(base)\n",
        "  processo += 1\n",
        "\n",
        "if expoente == 1:\n",
        "  resultado = base\n",
        "\n",
        "elif expoente == 0:\n",
        "  resultado = 1\n",
        "\n",
        "print(f'\\n{basef} elevado a {expoente} é igual a \\033[31m{sum(result)}')"
      ]
    },
    {
      "cell_type": "code",
      "execution_count": null,
      "metadata": {
        "colab": {
          "base_uri": "https://localhost:8080/"
        },
        "id": "H7uuCElK2CrM",
        "outputId": "2547d33f-11e6-422f-a6ef-4a1860538050"
      },
      "outputs": [
        {
          "name": "stdout",
          "output_type": "stream",
          "text": [
            "3\n",
            "9\n",
            "19683\n"
          ]
        }
      ],
      "source": [
        "# ENTRADA:\n",
        "a = int(input())\n",
        "b = int(input())\n",
        "\n",
        "a_elevado = (0)\n",
        "a_repetiçao = (a)\n",
        "a_menos = (a)\n",
        "\n",
        "# PROCESSAMENTO:\n",
        "for i in range(b - 1):\n",
        " for z in range(a_repetiçao):\n",
        "   a_elevado = (a_elevado + a)\n",
        "\n",
        " a_repetiçao = (a_elevado)\n",
        " a_elevado = (0)\n",
        "\n",
        "res = (a_repetiçao)\n",
        "# SAIDA:\n",
        "print(res)"
      ]
    },
    {
      "cell_type": "code",
      "execution_count": null,
      "metadata": {
        "colab": {
          "background_save": true,
          "base_uri": "https://localhost:8080/"
        },
        "id": "UPt4RZBOvAfU",
        "outputId": "42452be7-e52f-478f-8d0b-4d8d1a2d09ce"
      },
      "outputs": [
        {
          "name": "stdout",
          "output_type": "stream",
          "text": [
            "-=>-=>-=>-=>-=>-=>-=>-=>-=>-=>-=>-=>-=>-=>-=>-=>-=>-=>-=>-=>-=>-=>-=>-=>\n",
            "-=>-=>-=>-=>-=>-=>-=>-=>-=>-=>-=>-=>-=>-=>-=>-=>-=>-=>-=>-=>-=>-=>-=>-=>\n"
          ]
        }
      ],
      "source": [
        "#Hora do Show\n",
        "def mehn(opcao):\n",
        "  '''\n",
        "  Código em formato de menu, para saber diversas coisas...\n",
        "  '''\n",
        "  print('-=>'*24)\n",
        "\n",
        "  if opcao == 1:\n",
        "    nnotas = int(input(f'Ok {nome}! Quantas notas irão compor a média? '))\n",
        "    notas = float(input('\\n''Digite uma nota: ')),\n",
        "    while len(notas) <= nnotas - 1 :\n",
        "      notas += float(input('Digite a outra nota: ')),\n",
        "    print('-='*25)\n",
        "    notas = sum(notas)/nnotas\n",
        "    notas = '%.2f' % notas\n",
        "    media = print(f'{nome}, a média das suas notas é {notas}')\n",
        "    print('-='*25)\n",
        "    #Cálculo da média\n",
        "\n",
        "  elif opcao == 2:\n",
        "    a = 0\n",
        "    b = 10\n",
        "    escolha = int(input(f'Ok {nome}! Escolha um número para saber a tabuada: '))\n",
        "    print('-=>'*24)\n",
        "    while a <= b :\n",
        "      result = escolha * a\n",
        "      print(f'{escolha} x {a} = {result}')\n",
        "      a += 1\n",
        "    print('-='*15)\n",
        "    #Tabuada\n",
        "\n",
        "  elif opcao == 3:\n",
        "    def equacao(a, b, c):\n",
        "      '''\n",
        "      Código que realiza equações do Primeiro grau\n",
        "      '''\n",
        "      x = ((c - b) / a)\n",
        "      print('-='*11)\n",
        "      print(f'O valor de X é igual a {x}')\n",
        "      return ((a*x) + b) == c\n",
        "\n",
        "    print(f'Ok {nome}! para a equação de 1° grau no modelo (ax + b = c) Digite...')\n",
        "    equacao(float (input('O valor de a: ')),\n",
        "            float (input('O valor de b: ')),\n",
        "            float (input('O resultado c: ')))\n",
        "    print('-='*11)\n",
        "    #Equacao1°grau\n",
        "\n",
        "  elif opcao == 4:\n",
        "    def equa2(a, b, c):\n",
        "      '''\n",
        "      Código que realiza equações do Segundo grau\n",
        "      '''\n",
        "      raiz = ((b * b) - (4 * a * c)) ** 0.5\n",
        "      x1 = ((b * -1) + raiz) / (2 * a)\n",
        "      x2 = ((b * -1) - raiz) / (2 * a)\n",
        "      print('-='*15)\n",
        "      if ((a * (x1 * x1)) + (b * x1) + (c)) == 0:\n",
        "        print(f'O valor de X1 é igual a {x1}')\n",
        "      if ((a * (x2 * x2)) + (b * x2) + (c)) == 0:\n",
        "        print(f'O valor de X2 é igual a {x2}')\n",
        "      return\n",
        "    print(f'Ok {nome}! Para saber o valor das raízes:')\n",
        "    equa2(float (input('Insira o valor de a: ')),\n",
        "          float (input('Insira o valor de b: ')),\n",
        "          float (input('Insira o valor de c: ')))\n",
        "    print('-='*15)\n",
        "    #Equacao2°grau\n",
        "\n",
        "  elif opcao == 5:\n",
        "    def r3(a, b, x):\n",
        "      '''\n",
        "      Código para fazer regra de 3 só inserindo os valores\n",
        "      '''\n",
        "      y = (x*b)/a\n",
        "      print('-='*15)\n",
        "      print(f'O valor de Y é igual a {y}')\n",
        "      return (a * b) == (x * y)\n",
        "    print(f'Ok {nome}! Para realizarmos a regra de 3:')\n",
        "    print('Modelo a/b = x/y')\n",
        "    print('-='*3)\n",
        "    r3(float (input('Digite o valor de a: ')),\n",
        "       float (input('Digite o valor de b: ')),\n",
        "       float (input('Digite o valor de x: ')))\n",
        "    print('-='*15)\n",
        "    #Regrade3\n",
        "\n",
        "  elif opcao == 6:\n",
        "    def percent(a, b):\n",
        "      '''\n",
        "      Código para calcular qualquer porcentagem de um número\n",
        "      '''\n",
        "      b1 = b/100\n",
        "      c = b1 * a\n",
        "      print('-='*10)\n",
        "      print(f'{b}% de {a} é igual a {c}')\n",
        "      return\n",
        "    print(f'Ok {nome}! Para saber a % do número digite:')\n",
        "    percent(float (input('Número: ')),\n",
        "            float (input('Porcentagem escolhida (sem o %): ')))\n",
        "    print('-='*10)\n",
        "    #Percentagem\n",
        "\n",
        "  elif opcao == 7:\n",
        "    def capit(c, i, t):\n",
        "      '''\n",
        "      Código para se calcular o montante de um capital aplicado a juros compostos\n",
        "      '''\n",
        "      i = i/100\n",
        "      m = c * ((1 + i) ** t)\n",
        "      r = m - c\n",
        "      m = '%.2f' % m\n",
        "      r = '%.2f' % r\n",
        "      print('-='*15)\n",
        "      print(f'O valor total do montante será de {m} R$')\n",
        "      print(f'Houve um rendimento de {r} R$')\n",
        "      return\n",
        "    print(f'Ok {nome}! Para calcular o montante, digite as informações pedidas:')\n",
        "    capit(float (input('\\n''Valor do capital inicial (sem o cifrão): ')),\n",
        "          float (input('Taxa de juros mensal  (sem o símbolo %): ')),\n",
        "          float (input('Tempo em meses aplicado: ')))\n",
        "    print('-='*15)\n",
        "    #Juroscompostos-montante\n",
        "\n",
        "  elif opcao == 8:\n",
        "    def pit(b, c):\n",
        "      '''\n",
        "      Código para calcular pitágoras\n",
        "      '''\n",
        "      a = float (((b ** 2) + (c ** 2)) ** 0.5)\n",
        "      print('-='*15)\n",
        "      print(f'O valor da hipotenusa é igual a {a}')\n",
        "      return (b ** 2) + (c ** 2) == a\n",
        "    print(f'Ok {nome}! Para descobrir a hipotenusa:')\n",
        "    pit(float (input('Coloque o valor do cateto oposto: ')),\n",
        "        float (input('COloque o valor do cateto adjacente: ')))\n",
        "    print('-='*15)\n",
        "    #Pitágoras\n",
        "\n",
        "  elif opcao == 9:\n",
        "    def l(x):\n",
        "      '''\n",
        "      Código com operações de logaritmo\n",
        "      '''\n",
        "      import math\n",
        "      print('-='*15)\n",
        "      if x == 1:\n",
        "        print('1 certo')\n",
        "      elif x == 2:\n",
        "        print('2 certo')\n",
        "      elif x == 3:\n",
        "        print('3 certo')\n",
        "      elif x == 4:\n",
        "        print('4 certo')\n",
        "      cont = input(f'{nome}, você gostaria de realizar mais alguma operação?''\\n'\n",
        "      's/n: ')\n",
        "      if cont == 'n':\n",
        "        print('\\n''   Ok! finalizamos as operações com log.')\n",
        "        print('-='*15)\n",
        "      elif cont == 's':\n",
        "        print('-='*15)\n",
        "        l(int (input(f'Ok {nome}! Escolha qual outra operação irá querer realizar: ''\\n'\n",
        "      '   Soma de logaritmo ... (1)''\\n'\n",
        "      '   Subtração de log. ... (2)''\\n'\n",
        "      '   Divisão de log. ..... (3)''\\n'\n",
        "      '   Multiplicação de log. (4)''\\n'\n",
        "      'Sua opção é: ')))\n",
        "      print('-='*15)\n",
        "      return\n",
        "    l(int (input(f'Ok {nome}! Escolha qual operação irá querer realizar: ''\\n'\n",
        "    '   Soma de logaritmo ... (1)''\\n'\n",
        "    '   Subtração de log. ... (2)''\\n'\n",
        "    '   Divisão de log. ..... (3)''\\n'\n",
        "    '   Multiplicação de log. (4)''\\n'\n",
        "    'Sua opção é: ')))\n",
        "    print('-='*15)\n",
        "    #Logaritmo\n",
        "\n",
        "\n",
        "  def cont2(cont2):\n",
        "    '''\n",
        "    Finalizar ou Continuar?\n",
        "    '''\n",
        "    if cont2 == 'n':\n",
        "      print('\\n''   (: Acabamos por aqui! :)')\n",
        "    elif cont2 == 's':\n",
        "      print('-=>'*24)\n",
        "      meh(int(input(f'{nome}, o que mais gostaria de saber hj?''\\n'\n",
        "    '  (1) Média................. (1)''\\n'\n",
        "    '  (2) Tabuada............... (2)''\\n'\n",
        "    '  (3) Equação de 1° grau.... (3)''\\n'\n",
        "    '  (4) Equação de 2° grau.... (4)''\\n'\n",
        "    '  (5) Regra de 3............ (5)''\\n'\n",
        "    '  (6) Porcentagem........... (6)''\\n'\n",
        "    '  (7) Montante - juros comp. (7)''\\n'\n",
        "    '  (8) Pitágoras - hipotenusa (8)''\\n'\n",
        "    '  (9) Operações com log..... (9)''\\n'\n",
        "    'Sua opção é: ')))\n",
        "    else:\n",
        "      while cont2 != ('s') or ('n'):\n",
        "        print('Error! Nenhuma opção reconhecida. ')\n",
        "        cont2 = input('Digite apenas (s) para sim ou (n) para não: ')\n",
        "        if cont2 == 'n':\n",
        "          print('\\n''   (: Acabamos por aqui! :)')\n",
        "          break\n",
        "        elif cont2 == 's':\n",
        "          print('-=>'*24)\n",
        "          meh(int(input(f'{nome}, o que mais gostaria de saber hj?''\\n'\n",
        "      '  (1) Média................. (1)''\\n'\n",
        "      '  (2) Tabuada............... (2)''\\n'\n",
        "      '  (3) Equação de 1° grau.... (3)''\\n'\n",
        "      '  (4) Equação de 2° grau.... (4)''\\n'\n",
        "      '  (5) Regra de 3............ (5)''\\n'\n",
        "      '  (6) Porcentagem........... (6)''\\n'\n",
        "      '  (7) Montante - juros comp. (7)''\\n'\n",
        "      '  (8) Pitágoras - hipotenusa (8)''\\n'\n",
        "      '  (9) Operações com log..... (9)''\\n'\n",
        "      'Sua opção é: ')))\n",
        "          break\n",
        "    return\n",
        "\n",
        "  continuar = input('Vc gostaria de saber mais algo? s/n: ''\\n')\n",
        "  if continuar == 'n':\n",
        "    print('\\n''   (: Acabamos por aqui! :)')\n",
        "  elif continuar == 's':\n",
        "    print('-=>'*24)\n",
        "    mehn(int(input(f'{nome}, o que mais gostaria de saber hj?''\\n'\n",
        "  '  (1) Média................. (1)''\\n'\n",
        "  '  (2) Tabuada............... (2)''\\n'\n",
        "  '  (3) Equação de 1° grau.... (3)''\\n'\n",
        "  '  (4) Equação de 2° grau.... (4)''\\n'\n",
        "  '  (5) Regra de 3............ (5)''\\n'\n",
        "  '  (6) Porcentagem........... (6)''\\n'\n",
        "  '  (7) Montante - juros comp. (7)''\\n'\n",
        "  '  (8) Pitágoras - hipotenusa (8)''\\n'\n",
        "  '  (9) Operações com log..... (9)''\\n'\n",
        "  'Sua opção é: ')))\n",
        "  else:\n",
        "    cont2(input('Ops! digite apenas (s) para sim ou (n) para não: ''\\n'))\n",
        "\n",
        "  return #Def mehn(opcao) #Função inicial\n",
        "\n",
        "nome = input('Olá, Sr/Srta... ')\n",
        "print('-=>'*24)\n",
        "mehn(int(input(f'{nome}, o que gostaria de saber hj?''\\n'\n",
        "'  (1) Média................. (1)''\\n'\n",
        "'  (2) Tabuada............... (2)''\\n'\n",
        "'  (3) Equação de 1° grau.... (3)''\\n'\n",
        "'  (4) Equação de 2° grau.... (4)''\\n'\n",
        "'  (5) Regra de 3............ (5)''\\n'\n",
        "'  (6) Porcentagem........... (6)''\\n'\n",
        "'  (7) Montante - juros comp. (7)''\\n'\n",
        "'  (8) Pitágoras - hipotenusa (8)''\\n'\n",
        "'  (9) Operações com log..... (9)''\\n'\n",
        "'Sua opção é: ')))\n",
        "#Fim do Show"
      ]
    },
    {
      "cell_type": "markdown",
      "metadata": {
        "id": "OLFAUNzIAhdd"
      },
      "source": [
        "#♦Gráfico da Função♦"
      ]
    },
    {
      "cell_type": "markdown",
      "metadata": {
        "id": "rZUUC9to-1Ec"
      },
      "source": [
        "# Como criar variável\n"
      ]
    },
    {
      "cell_type": "code",
      "execution_count": null,
      "metadata": {
        "colab": {
          "base_uri": "https://localhost:8080/"
        },
        "id": "KLIWm87y-yWG",
        "outputId": "6e5c4d79-2bf0-452f-fd32-6e1ca40ded6a"
      },
      "outputs": [
        {
          "name": "stdout",
          "output_type": "stream",
          "text": [
            "2\n"
          ]
        },
        {
          "data": {
            "text/plain": [
              "int"
            ]
          },
          "execution_count": 5,
          "metadata": {
            "tags": []
          },
          "output_type": "execute_result"
        }
      ],
      "source": [
        "variavel = 2\n",
        "print(variavel)\n",
        "type(variavel)"
      ]
    },
    {
      "cell_type": "markdown",
      "metadata": {
        "id": "fTtNqpdyAHAv"
      },
      "source": [
        "# Variável com valor real"
      ]
    },
    {
      "cell_type": "code",
      "execution_count": null,
      "metadata": {
        "colab": {
          "base_uri": "https://localhost:8080/"
        },
        "id": "8grl4CI_ALRh",
        "outputId": "d261a7d5-1438-40a7-898d-dd94f64c426a"
      },
      "outputs": [
        {
          "name": "stdout",
          "output_type": "stream",
          "text": [
            "3.5\n"
          ]
        },
        {
          "data": {
            "text/plain": [
              "float"
            ]
          },
          "execution_count": 6,
          "metadata": {
            "tags": []
          },
          "output_type": "execute_result"
        }
      ],
      "source": [
        "preco_do_produto = 3.5\n",
        "print(preco_do_produto)\n",
        "type(preco_do_produto)"
      ]
    },
    {
      "cell_type": "markdown",
      "metadata": {
        "id": "kCJetBtPAmjC"
      },
      "source": [
        "# Variável String"
      ]
    },
    {
      "cell_type": "code",
      "execution_count": null,
      "metadata": {
        "colab": {
          "base_uri": "https://localhost:8080/"
        },
        "id": "3M0cS7UpBYUR",
        "outputId": "baee6820-c8b9-47d7-8e65-d7fa06c4712b"
      },
      "outputs": [
        {
          "name": "stdout",
          "output_type": "stream",
          "text": [
            "texto\n"
          ]
        }
      ],
      "source": [
        "variavel = \"texto\"\n",
        "print(variavel)"
      ]
    },
    {
      "cell_type": "markdown",
      "metadata": {
        "id": "pYXVFe0YCDrv"
      },
      "source": [
        "# Variável Boolean"
      ]
    },
    {
      "cell_type": "code",
      "execution_count": null,
      "metadata": {
        "colab": {
          "base_uri": "https://localhost:8080/"
        },
        "id": "rdNKAr9lCIjv",
        "outputId": "6592deb1-7a32-4d88-96cf-9ec9f8790335"
      },
      "outputs": [
        {
          "name": "stdout",
          "output_type": "stream",
          "text": [
            "True\n",
            "False\n"
          ]
        }
      ],
      "source": [
        "verdadeiro = True\n",
        "falso = False\n",
        "print(verdadeiro)\n",
        "print(falso)"
      ]
    },
    {
      "cell_type": "markdown",
      "metadata": {
        "id": "1sIEvPomCwVU"
      },
      "source": [
        "# Listas"
      ]
    },
    {
      "cell_type": "code",
      "execution_count": null,
      "metadata": {
        "colab": {
          "base_uri": "https://localhost:8080/"
        },
        "id": "evHx6_diCyKk",
        "outputId": "e600f8d1-40aa-47a5-ae10-eaad5c3201f7"
      },
      "outputs": [
        {
          "name": "stdout",
          "output_type": "stream",
          "text": [
            "\u001b[1;31m[1, 2, 3, 4, 5, 6, 7, 8]\n"
          ]
        }
      ],
      "source": [
        "lista = [1, 2, 3, 4, 5, 6, 7, 8]\n",
        "print(f'\\033[1;31m{lista}')"
      ]
    },
    {
      "cell_type": "code",
      "execution_count": null,
      "metadata": {
        "colab": {
          "base_uri": "https://localhost:8080/"
        },
        "id": "3QseOn87Dri9",
        "outputId": "eef653b0-252f-42cf-a350-816a77c32e72"
      },
      "outputs": [
        {
          "name": "stdout",
          "output_type": "stream",
          "text": [
            "[True, False, True, True]\n"
          ]
        }
      ],
      "source": [
        "lista2 = [True, False, True, True]\n",
        "print(lista2)"
      ]
    },
    {
      "cell_type": "code",
      "execution_count": null,
      "metadata": {
        "colab": {
          "base_uri": "https://localhost:8080/"
        },
        "id": "Q-oIDhy0EAvY",
        "outputId": "95b584b4-4377-4a19-c3af-a13d527d2b77"
      },
      "outputs": [
        {
          "name": "stdout",
          "output_type": "stream",
          "text": [
            "[1, 'mateus', 2, 'qlrcoisa']\n"
          ]
        }
      ],
      "source": [
        "lista_kenzie = [1, 'mateus', 2, 'qlrcoisa']\n",
        "print(lista_kenzie)"
      ]
    },
    {
      "cell_type": "code",
      "execution_count": null,
      "metadata": {
        "colab": {
          "base_uri": "https://localhost:8080/"
        },
        "id": "PlzefR10Ed5s",
        "outputId": "00bda667-a12d-4947-f8b5-a81e60268525"
      },
      "outputs": [
        {
          "name": "stdout",
          "output_type": "stream",
          "text": [
            "deu certo!\n",
            "deu bom querida\n"
          ]
        }
      ],
      "source": [
        "if 7 > 6:\n",
        "  print(\"deu certo!\")\n",
        "else:\n",
        "  print(\"deu bom querido\")\n",
        "if 6 > 7:\n",
        "  print(\"boa bola\")\n",
        "else:\n",
        "  print(\"deu bom querida\")"
      ]
    },
    {
      "cell_type": "markdown",
      "metadata": {
        "id": "b3ug8oFLF-B2"
      },
      "source": [
        "Usando variáveis"
      ]
    },
    {
      "cell_type": "code",
      "execution_count": null,
      "metadata": {
        "colab": {
          "base_uri": "https://localhost:8080/"
        },
        "id": "22UNAFxcGBmY",
        "outputId": "51974478-9e9b-4c67-932d-6156bcc32012"
      },
      "outputs": [
        {
          "name": "stdout",
          "output_type": "stream",
          "text": [
            "Realmente, 10 é menor que 11\n",
            "13 < 15\n"
          ]
        },
        {
          "data": {
            "text/plain": [
              "int"
            ]
          },
          "execution_count": 25,
          "metadata": {
            "tags": []
          },
          "output_type": "execute_result"
        }
      ],
      "source": [
        "variavel_1 = 10\n",
        "variavel_2 = 11\n",
        "variavel_3 = 13\n",
        "variavel_4 = 15\n",
        "if variavel_1 < variavel_2:\n",
        "  print(\"Realmente, 10 é menor que 11\")\n",
        "else:\n",
        "  print(\"A variavel_2 é maior que a variavel_1\")\n",
        "if variavel_3 > variavel_4:\n",
        "  print(\"13 > 15\")\n",
        "else:\n",
        "  print(\"13 < 15\")"
      ]
    },
    {
      "cell_type": "markdown",
      "metadata": {
        "id": "R28VBfEcnKZI"
      },
      "source": [
        "# Funções\n"
      ]
    },
    {
      "cell_type": "code",
      "execution_count": null,
      "metadata": {
        "colab": {
          "base_uri": "https://localhost:8080/"
        },
        "id": "RgpcV93NnOpq",
        "outputId": "9028cc6a-ae0f-4c95-80b5-ce6ee58c8929"
      },
      "outputs": [
        {
          "name": "stdout",
          "output_type": "stream",
          "text": [
            "Equação de Primeiro Grau: ax + b = c\n",
            "-=-=-=-=-=-=-=-=-=-=-=-=-=-=-=-=-=-=\n",
            "O valor de a: 10\n",
            "O valor de b: 10\n",
            "O resultado c: 50\n",
            "-=-=-=-=-=-=-=-=-=-=-=\n",
            "O valor de X é igual a 4.0\n",
            "-=-=-=-=-=-=-=-=-=-=-=\n"
          ]
        }
      ],
      "source": [
        "#def mult(a, b=3) :\n",
        "#  print(f'O resultado da conta é')\n",
        "#  return (a + b) * 3\n",
        "\n",
        "def eq(a, b, c):\n",
        "  x = ((c - b) / a)\n",
        "  print('-='*11)\n",
        "  print(f'O valor de X é igual a {x}')\n",
        "  return ((a*x) + (b)) == c\n",
        "\n",
        "print('Equação de Primeiro Grau: ax + b = c')\n",
        "print('-='*18)\n",
        "eq(float(input('O valor de a: ')),\n",
        "   float(input('O valor de b: ')),\n",
        "   float(input('O resultado c: ')))\n",
        "print('-='*11)\n",
        "#Código para equação de 1°grau\n"
      ]
    },
    {
      "cell_type": "markdown",
      "metadata": {
        "id": "PaGHrprNrWws"
      },
      "source": [
        "# If, Elif, Else"
      ]
    },
    {
      "cell_type": "code",
      "execution_count": null,
      "metadata": {
        "colab": {
          "base_uri": "https://localhost:8080/"
        },
        "id": "ygWTprNircC-",
        "outputId": "959a7abc-3ed3-400d-f2be-0d9ae85514e3"
      },
      "outputs": [
        {
          "name": "stdout",
          "output_type": "stream",
          "text": [
            "7 é maior que 6 e menor que 8\n"
          ]
        }
      ],
      "source": [
        "valor = 7\n",
        "valo = 6\n",
        "val = 8\n",
        "\n",
        "if valor < valo:\n",
        "  print(f'7 é menor que', valo)\n",
        "elif valor > val:\n",
        "    print(f'7 é maior que', val)\n",
        "else:\n",
        "  print(f'7 é maior que', valo, 'e menor que', val)\n"
      ]
    },
    {
      "cell_type": "markdown",
      "metadata": {
        "id": "NV9ON9GpTegf"
      },
      "source": [
        "# Soma, input, int, while..."
      ]
    },
    {
      "cell_type": "code",
      "execution_count": null,
      "metadata": {
        "colab": {
          "base_uri": "https://localhost:8080/"
        },
        "id": "AyX9lsChTobx",
        "outputId": "f2dd0d36-24c2-45e1-ab6f-7537efb5d260"
      },
      "outputs": [
        {
          "name": "stdout",
          "output_type": "stream",
          "text": [
            "Insira alguns números dando \"enter\" após cada um para ver a soma entre eles: 1\n",
            "2\n",
            "3\n",
            "A soma dos números é igual a 6\n"
          ]
        }
      ],
      "source": [
        "nume = int(input('Insira alguns números dando \"enter\" após cada um para ver a soma entre eles: ')), int(input()), int(input())\n",
        "print(f'A soma dos números é igual a {sum(nume)}')"
      ]
    },
    {
      "cell_type": "code",
      "execution_count": null,
      "metadata": {
        "colab": {
          "base_uri": "https://localhost:8080/"
        },
        "id": "JLJFbmqNkhDO",
        "outputId": "e898adcf-cd5b-4ad2-e0ff-3e65e0080682"
      },
      "outputs": [
        {
          "name": "stdout",
          "output_type": "stream",
          "text": [
            "Qual tabuada vc quer saber? 1\n",
            "1 x 0 = 0\n",
            "1 x 1 = 1\n",
            "1 x 2 = 2\n",
            "1 x 3 = 3\n",
            "1 x 4 = 4\n",
            "1 x 5 = 5\n",
            "1 x 6 = 6\n",
            "1 x 7 = 7\n",
            "1 x 8 = 8\n",
            "1 x 9 = 9\n",
            "1 x 10 = 10\n",
            "A tabuada do 1 vai até aqui, obrigado!!\n"
          ]
        }
      ],
      "source": [
        "#código para tabuada\n",
        "inicio = 0\n",
        "final = 10\n",
        "\n",
        "num = int(input('Qual tabuada vc quer saber? '))\n",
        "\n",
        "while inicio <= final:  #enquanto\n",
        "  resultado = num * inicio\n",
        "  print(f'{num} x {inicio} = {resultado}')\n",
        "  inicio += 1 #ou inicio = inicio + 1\n",
        "\n",
        "else:\n",
        "  print(f'A tabuada do {num} vai até aqui, obrigado!!')"
      ]
    },
    {
      "cell_type": "markdown",
      "metadata": {
        "id": "3_rsKBu9yC-7"
      },
      "source": [
        "# Média de um aluno"
      ]
    },
    {
      "cell_type": "code",
      "execution_count": null,
      "metadata": {
        "colab": {
          "base_uri": "https://localhost:8080/"
        },
        "id": "ZsMC6Lg4yFPa",
        "outputId": "b55addab-0813-46d9-ba0f-31e0c09e901c"
      },
      "outputs": [
        {
          "name": "stdout",
          "output_type": "stream",
          "text": [
            "Digite seu nome: Mateus\n",
            "-=-=-=-=-=-=-=-=-=-=-=-=-=-=-=-=-=-=-=-=\n",
            "Para saber sua média e se foi aprovado, siga as intruções.\n",
            "-=-=-=-=-=-=-=-=-=-=-=-=-=-=-=-=-=-=-=-=\n",
            "Digite a primeira nota: 9\n",
            "Digite a segunda nota: 8.5\n",
            "Digite a terceira nota: 7\n",
            "Digite a quarta nota: 8\n",
            "Digite a quinta nota: 10\n",
            "-=-=-=-=-=-=-=-=-=-=-=-=-=-=-=-=-=-=-=-=\n",
            "\n",
            "A média das suas notas é 8.5\n",
            "\n",
            "Parabéns Mateus!!, vc foi aprovado(a) :)\n"
          ]
        }
      ],
      "source": [
        "nome = input('Digite seu nome: ')\n",
        "print('-=' * 20)\n",
        "print('Para saber sua média e se foi aprovado, siga as intruções.')\n",
        "print('-=' * 20)\n",
        "notas = float(input('Digite a primeira nota: ')), float(input('Digite a segunda nota: ')), float(input('Digite a terceira nota: ')), float(input('Digite a quarta nota: ')), float(input('Digite a quinta nota: '))\n",
        "media = sum(notas)/len(notas)\n",
        "print('-=' * 20)\n",
        "print('\\n'f'A média das suas notas é {media}')\n",
        "\n",
        "if (media) >= 7:\n",
        "  print('\\n'f'Parabéns {nome}!!, vc foi aprovado(a) :)')\n",
        "else:\n",
        "  print('\\n'f'Infelizmente {nome}, vc foi reprovado(a) :(')\n"
      ]
    },
    {
      "cell_type": "markdown",
      "metadata": {
        "id": "0zHibPeSzkkV"
      },
      "source": [
        "# Menu de opções"
      ]
    },
    {
      "cell_type": "code",
      "execution_count": null,
      "metadata": {
        "colab": {
          "base_uri": "https://localhost:8080/"
        },
        "id": "A1nBdMDVzpHS",
        "outputId": "f77ec57c-2234-4807-c51a-77b3097ec094"
      },
      "outputs": [
        {
          "name": "stdout",
          "output_type": "stream",
          "text": [
            "1 - Netflix 2 - Amazon Prime 3 - Globo Play\n",
            "-=-=-=-=-=-=-=-=-=-=-=-=-=-=-=-=-=-=-=-=\n",
            "Escolha um streaming: 1\n",
            "Ok! abrindo Netflix\n"
          ]
        }
      ],
      "source": [
        "Netflix = 1\n",
        "Amazon = 2\n",
        "Globo = 3\n",
        "print('1 - Netflix 2 - Amazon Prime 3 - Globo Play')\n",
        "print('-=' * 20)\n",
        "opcao = int(input('Escolha um streaming: '))\n",
        "#melhorar dps\n",
        "if (opcao == 1):\n",
        "  print(f'Ok! abrindo Netflix')\n",
        "elif (opcao == 2):\n",
        "    print(f'Ok! abrindo Amazon Prime')\n",
        "elif (opcao == 3):\n",
        "    print(f'Ok! abrindo Globo Play')\n",
        "else:\n",
        "  print('Não foi possível identificar o streaming :( Por favor escolher entre as 3 opções.')"
      ]
    },
    {
      "cell_type": "markdown",
      "metadata": {
        "id": "3xg6jTimcXba"
      },
      "source": [
        "# Vetor"
      ]
    },
    {
      "cell_type": "code",
      "execution_count": null,
      "metadata": {
        "colab": {
          "base_uri": "https://localhost:8080/"
        },
        "id": "NtWl46TpcZJR",
        "outputId": "9e561d24-9c67-4936-e764-4bbbfa6014bf"
      },
      "outputs": [
        {
          "name": "stdout",
          "output_type": "stream",
          "text": [
            "acucar\n",
            "64\n"
          ]
        }
      ],
      "source": [
        "vetor = ['cafe', 'leite', 'acucar', 'colher']\n",
        "print(vetor[2])\n",
        "\n",
        "print(16 + 48)"
      ]
    },
    {
      "cell_type": "markdown",
      "metadata": {
        "id": "cab14RjqrSNd"
      },
      "source": [
        "# Matriz"
      ]
    },
    {
      "cell_type": "code",
      "execution_count": null,
      "metadata": {
        "colab": {
          "base_uri": "https://localhost:8080/"
        },
        "id": "5rKwTUsurVsM",
        "outputId": "5e9224a3-fef2-4cb7-a913-d033491cf679"
      },
      "outputs": [
        {
          "name": "stdout",
          "output_type": "stream",
          "text": [
            "Digite um valor para [0, 0]: 0\n",
            "Digite um valor para [0, 1]: 1\n",
            "Digite um valor para [1, 0]: 1\n",
            "Digite um valor para [1, 1]: 0\n",
            "-=-=-=-=-=-=-=-=-=-=-=-=-=-=-=-=-=-=-=-=\n",
            "[  0  ][  1  ]\n",
            "[  1  ][  0  ]\n",
            "-=-=-=-=-=-=-=-=-=-=-=-=-=-=-=-=-=-=-=-=\n",
            "Entre com o numero da posição [0][0]: 1\n",
            "Entre com o numero da posição [1][0]: 0\n",
            "Entre com o numero da posição [0][1]: 0\n",
            "Entre com o numero da posição [1][1]: 1\n",
            "[1, 0]\n",
            "[0, 1]\n"
          ]
        }
      ],
      "source": [
        "#Abaixo uma maneira de fazer matriz 2x2\n",
        "matriz = [[0, 0], [0, 0]]\n",
        "for l in range(0, 2):\n",
        "  for c in range(0, 2):\n",
        "    matriz[l][c] = int(input(f'Digite um valor para [{l}, {c}]: '))\n",
        "print('-=' * 20)\n",
        "for l in range(0, 2):\n",
        "  for c in range(0, 2):\n",
        "    print(f'[{matriz[l][c]:^5}]', end='')\n",
        "  print()\n",
        "\n",
        "#Abaixo outra maneira de fazer matriz\n",
        "#print('-=' * 20)\n",
        "#matriz = [[int(input(f'Entre com o numero da posição [{i}][{j}]: ')) for i in range(3)] for j in range(3)]\n",
        "#print(f'{matriz[0]}\\n{matriz[1]}\\n{matriz[2]}')"
      ]
    },
    {
      "cell_type": "markdown",
      "metadata": {
        "id": "GffcXqwwxRl0"
      },
      "source": [
        "# Eu na matriz"
      ]
    },
    {
      "cell_type": "code",
      "execution_count": null,
      "metadata": {
        "id": "mWG2mFOBvSHX"
      },
      "outputs": [],
      "source": [
        "teste = [[0, 0], [0, 0]]\n",
        "for i in range(0, 2):\n",
        "  for l in range(0, 2):\n",
        "    teste[i][l] = int (input(f'Digite um valor para [{i}, {l}]: '))\n",
        "print('-='*16)\n",
        "for i in range(0, 2):\n",
        "  for l in range(0, 2):\n",
        "    print(f'[{teste[i][l]:^5}]', end='')\n",
        "  print()"
      ]
    },
    {
      "cell_type": "markdown",
      "metadata": {
        "id": "wPrDcgpxBwLm"
      },
      "source": [
        "#♦Gráfico da Função♦\n",
        "###A partir de matrizes que formam um Plano Cartesiano"
      ]
    },
    {
      "cell_type": "code",
      "execution_count": null,
      "metadata": {
        "id": "EUs3BRHkCP6R"
      },
      "outputs": [],
      "source": [
        "# FORMAÇÃO DO PLANO CARTESIANO\n"
      ]
    },
    {
      "cell_type": "markdown",
      "metadata": {
        "id": "1wMwIObic5dk"
      },
      "source": [
        "# Tentativa codigo para EQ2G"
      ]
    },
    {
      "cell_type": "code",
      "execution_count": null,
      "metadata": {
        "colab": {
          "base_uri": "https://localhost:8080/"
        },
        "id": "7-quWxYUdBkv",
        "outputId": "fcc84f1a-0f0a-4d87-fb7a-032d8a6ac854"
      },
      "outputs": [
        {
          "name": "stdout",
          "output_type": "stream",
          "text": [
            "Para resolver a Equação de 2° grau, digite seus valores.\n",
            "Insira o valor de a: 1\n",
            "Insira o valor de b: -8\n",
            "Insira o valor de c: 7\n",
            "-=-=-=-=-=-=-=-=-=-=-=-=-=-=-=\n",
            "O valor de X1 é igual a 7.0\n",
            "O valor de X2 é igual a 1.0\n",
            "-=-=-=-=-=-=-=-=-=-=-=-=-=-=-=\n"
          ]
        }
      ],
      "source": [
        "#boracodar\n",
        "#print(f'O valor de X é igual a {x}')\n",
        "def eq2g(a, b, c):\n",
        "  raiz = ((b * b) - (4 * a * c)) ** 0.5   #Se usar complex aparecerá a parte imaginária, se houver\n",
        "  x1 = ((b * -1) + raiz) / (2 * a)\n",
        "  x2 = ((b * -1) - raiz) / (2 * a)\n",
        "  print('-='*15)\n",
        "  if ((a * (x1 * x1)) + (b * x1) + c) == 0:   #Se X1 não satisfazer a condição, não aparecerá\n",
        "    print(f'O valor de X1 é igual a {x1}')\n",
        "  if ((a * (x2 * x2)) + (b * x2) + c) == 0:   #Se X2 não satisfazer a condição, não aparecerá\n",
        "    print(f'O valor de X2 é igual a {x2}')\n",
        "  return\n",
        "\n",
        "print('Para resolver a Equação de 2° grau, digite seus valores.')\n",
        "eq2g(int(input('Insira o valor de a: ')),\n",
        "     int(input('Insira o valor de b: ')),\n",
        "     int(input('Insira o valor de c: ')))\n",
        "print('-='*15)\n",
        "#Código para equação do 2° grau"
      ]
    },
    {
      "cell_type": "markdown",
      "metadata": {
        "id": "mbcxYkoTplRm"
      },
      "source": [
        "# Regra de 3"
      ]
    },
    {
      "cell_type": "code",
      "execution_count": null,
      "metadata": {
        "colab": {
          "base_uri": "https://localhost:8080/"
        },
        "id": "G2FOWyM1pp1_",
        "outputId": "6df25294-a25c-4865-c9b0-306b83f4022a"
      },
      "outputs": [
        {
          "name": "stdout",
          "output_type": "stream",
          "text": [
            "Considerando (a/b = x/y) insira:\n",
            "O valor de a: 18\n",
            "O valor de b: 6\n",
            "O valor de x: 18\n",
            "-=-=-=-=-=-=-=-=-=-=-=\n",
            "O valor de Y é 6.0\n",
            "-=-=-=-=-=-=-=-=-=-=-=\n"
          ]
        }
      ],
      "source": [
        "#Hora do show\n",
        "def r3(a, b, x):\n",
        "  y = (x * b) / a\n",
        "  print('-='*11)\n",
        "  print(f'O valor de Y é {y}')\n",
        "  return (a * b) == (x * y)\n",
        "\n",
        "print('Considerando (a/b = x/y) insira:')\n",
        "r3(float (input('O valor de a: ')),\n",
        "   float (input('O valor de b: ')),\n",
        "   float (input('O valor de x: ')))\n",
        "print('-='*11)\n",
        "#Fim do show"
      ]
    },
    {
      "cell_type": "markdown",
      "metadata": {
        "id": "s4TNc_ESsXf1"
      },
      "source": [
        "# Porcentagem"
      ]
    },
    {
      "cell_type": "code",
      "execution_count": null,
      "metadata": {
        "colab": {
          "base_uri": "https://localhost:8080/"
        },
        "id": "vzFWhL_CsbRZ",
        "outputId": "d38a513e-8cd8-499a-d998-04bdaef584f2"
      },
      "outputs": [
        {
          "name": "stdout",
          "output_type": "stream",
          "text": [
            "Para saber uma porcentagem do número:\n",
            "\n",
            "Insira o número: 1250\n",
            "Insira o número percentual: 60\n",
            "-=-=-=-=-=-=-=-=-=-=-=-=-=-=-=-=-=-=-=\n",
            "60.0% de 1250.0 é igual a 750.0\n"
          ]
        },
        {
          "data": {
            "text/plain": [
              "True"
            ]
          },
          "execution_count": 24,
          "metadata": {
            "tags": []
          },
          "output_type": "execute_result"
        }
      ],
      "source": [
        "#Hora do show\n",
        "def pn(a, b):\n",
        "  b1 = b / 100\n",
        "  c = b1 * a\n",
        "  print('-=' * 19)\n",
        "  print(f'{b}% de {a} é igual a {c}')\n",
        "  return b1 * a == c\n",
        "\n",
        "print('Para saber uma porcentagem do número:''\\n')\n",
        "pn(float (input('Insira o número: ')),\n",
        "   float (input('Insira o número percentual: ')))\n",
        "#Fim do show"
      ]
    },
    {
      "cell_type": "markdown",
      "metadata": {
        "id": "0NzjWSgxxpZ-"
      },
      "source": [
        "# Montante"
      ]
    },
    {
      "cell_type": "code",
      "execution_count": null,
      "metadata": {
        "colab": {
          "base_uri": "https://localhost:8080/"
        },
        "id": "lAoAFNswxx7b",
        "outputId": "275866f4-e8cb-40c8-f464-0d0077d92b0e"
      },
      "outputs": [
        {
          "name": "stdout",
          "output_type": "stream",
          "text": [
            "Para descobrir o valor do montante, insira:\n",
            "Capital inicial: 100\n",
            "Juros mensal: 2\n",
            "Tempo em meses aplicado: 10\n",
            "-=-=-=-=-=-=-=-=-=-=-=-=-=-=-=-=-=-=-=-=\n",
            "O montante disponível será de 121.90 R$\n",
            "\n",
            "Houve rendimento de 21.90 R$\n",
            "-=-=-=-=-=-=-=-=-=-=-=-=-=-=-=-=-=-=-=-=\n"
          ]
        }
      ],
      "source": [
        "#Hora do show\n",
        "def valores(c, j, t):\n",
        "  j = j/100\n",
        "  m = c * ((1 + j) ** t)\n",
        "  r = m - c\n",
        "  m = '%.2f' % m\n",
        "  r = '%.2f' % r\n",
        "  print('-='*20)\n",
        "  print(f'O montante disponível será de R${m} ')\n",
        "  print('\\n'f'Houve rendimento de R${r} ')\n",
        "  return\n",
        "\n",
        "print('Para descobrir o valor do montante, insira:')\n",
        "valores(float (input('Capital inicial: ')),\n",
        "        float (input('Juros mensal: ')),\n",
        "        float (input('Tempo em meses aplicado: ')))\n",
        "print('-='*20)\n",
        "#Fim do show"
      ]
    },
    {
      "cell_type": "markdown",
      "metadata": {
        "id": "KCvux3ZB4RLu"
      },
      "source": [
        "# Oque será aghora"
      ]
    },
    {
      "cell_type": "code",
      "execution_count": null,
      "metadata": {
        "colab": {
          "base_uri": "https://localhost:8080/"
        },
        "id": "OqDW3rxG6OzP",
        "outputId": "9a83061a-3bce-4ee2-f81d-8b0ec440b5b5"
      },
      "outputs": [
        {
          "name": "stdout",
          "output_type": "stream",
          "text": [
            "\u001b[31mCateto oposto: \u001b[m3\n",
            "\u001b[31mCateto adjacente: \u001b[m4\n",
            "O valor da hipotenusa a é \u001b[1;36m5.0\n"
          ]
        },
        {
          "data": {
            "text/plain": [
              "True"
            ]
          },
          "execution_count": 17,
          "metadata": {
            "tags": []
          },
          "output_type": "execute_result"
        }
      ],
      "source": [
        "#Hora do show\n",
        "def triang(b, c):\n",
        "  a = (((b**2)+(c**2))** 0.5)\n",
        "  print(f'O valor da hipotenusa a é \\033[1;36m{a}')\n",
        "  return (b ** 2) + (c ** 2) == a ** 2\n",
        "triang(float (input('\\033[31mCateto oposto: \\033[m')),\n",
        "       float (input('\\033[31mCateto adjacente: \\033[m')))\n",
        "#Fim do show"
      ]
    },
    {
      "cell_type": "markdown",
      "metadata": {
        "id": "1WDraZcb_old"
      },
      "source": [
        "# Logaritmo"
      ]
    },
    {
      "cell_type": "code",
      "execution_count": null,
      "metadata": {
        "colab": {
          "base_uri": "https://localhost:8080/"
        },
        "id": "l0pR3HuIJUyf",
        "outputId": "56dc7e69-29ab-4a87-b932-41a04fbac4e6"
      },
      "outputs": [
        {
          "name": "stdout",
          "output_type": "stream",
          "text": [
            "#OPERAÇÕES# Envolvendo Log:\n",
            "  Soma de log......... (1)\n",
            "  Subtração de log.... (2)\n",
            "  Divisão de log...... (3)\n",
            "  Multiplicação de log (4)\n",
            "Sua opção é: 3\n",
            "-=-=-=-=-=-=-=-=-=-=-=-=-=-=-=-=\n",
            "Quantos log irão se dividir?: 3\n",
            "-=-=-=-=-=-=-=-=-=-=-=-=-=-=-=-=\n",
            "A seguir insira as informações:\n",
            "Obs. Atenção na ordem!\n",
            "\n",
            " Digite as info do Log\n",
            "  Log de: 256\n",
            "  Na base: 2\n",
            "\n",
            " Info do outro Log\n",
            "  Log de: 4\n",
            "  Na base: 2\n",
            "\n",
            " Info do outro Log\n",
            "  Log de: 4\n",
            "  Na base: 2\n",
            "-=-=-=-=-=-=-=-=-=-=-=-=-=-=\n",
            "O resultado da divisão é = 2.0\n",
            "-=-=-=-=-=-=-=-=-=-=-=-=-=-=-=-=-=-=-=-=-=-=-=-=-=-=-=-=-=-=-=-=-=-=-=\n"
          ]
        }
      ],
      "source": [
        "#Hora do show\n",
        "def log(x):\n",
        "  if x == 1:\n",
        "    import math\n",
        "    print('-='*16)\n",
        "    escolha = int (input('A soma será entre quantos Log?: '))\n",
        "    print('-='*16)\n",
        "    print('A seguir insira as informações:')\n",
        "    print('\\n'' Digite as info do Log')\n",
        "    logs = math.log(float (input('   Log de: ')),\n",
        "                    float (input('   Na base: '))),\n",
        "    while len(logs) <= escolha - 1:\n",
        "      print('\\n'' Info do outro Log')\n",
        "      logs += math.log(float (input('   Log de: ')),\n",
        "                       float (input('   Na base: '))),\n",
        "    print('-='*14)\n",
        "    print(f'O resultado da soma é = {sum(logs)}')\n",
        "  elif x == 2:\n",
        "    import math\n",
        "    print('-='*19)\n",
        "    esc = int (input('A subtração será entre quantos log?: '))\n",
        "    print('-='*19)\n",
        "    print('A seguir insira as informações:')\n",
        "    print('\\n'' Digite as info do Log')\n",
        "    logs = math.log(float (input('  Log de: ')),\n",
        "                    float (input('  Na base: '))),\n",
        "    while len(logs) <= esc - 1:\n",
        "      print('\\n'' Info do outro Log')\n",
        "      logs += (logs[-1]) - math.log(float (input('  Log de: ')),\n",
        "                                    float (input('  Na base: '))),\n",
        "    print('-='*14)\n",
        "    print(f'O resultado da subtração é {logs[len(logs)-1]}')\n",
        "  elif x == 3:\n",
        "    import math\n",
        "    print('-='*16)\n",
        "    escol = int (input('Quantos log irão se dividir?: '))\n",
        "    print('-='*16)\n",
        "    print('A seguir insira as informações:''\\n''Obs. Atenção na ordem!')\n",
        "    print('\\n'' Digite as info do Log')\n",
        "    logs = math.log(float (input('  Log de: ')),\n",
        "                    float (input('  Na base: '))),\n",
        "    while len(logs) <= escol - 1:\n",
        "      print('\\n'' Info do outro Log')\n",
        "      logs += (logs [-1]) / math.log(float (input('  Log de: ')),\n",
        "                                     float (input('  Na base: '))),\n",
        "    print('-='*14)\n",
        "    print(f'O resultado da divisão é = {logs[len(logs)-1]}')\n",
        "  elif x == 4:\n",
        "    import math\n",
        "    print('-='*16)\n",
        "    numero = int (input('Quantos Log irão se multiplicar?: '))\n",
        "    print('-='*16)\n",
        "    print('A seguir insira as informações:')\n",
        "    print('\\n'' Digite as info do Log')\n",
        "    logs = math.log(float (input('   Log de: ')),\n",
        "                    float (input('   Na base: '))),\n",
        "    while len(logs) <= numero - 1:\n",
        "      print('\\n'' Info do outro Log')\n",
        "      logs += logs[-1] * math.log(float (input('   Log de: ')),\n",
        "                                  float (input('   Na base: '))),\n",
        "    print('-='*14)\n",
        "    print(f'O resultado da multiplicação é = {logs[len(logs)-1]}')\n",
        "\n",
        "  print('-='*35)\n",
        "  #print(f'O log de {x} na base {a} é igual a {c}')\n",
        "  return\n",
        "\n",
        "print('#''OPERAÇÕES''#'' Envolvendo Log:')\n",
        "log(int (input('  Soma de log......... (1)''\\n'\n",
        "'  Subtração de log.... (2)''\\n'\n",
        "'  Divisão de log...... (3)''\\n'\n",
        "'  Multiplicação de log (4)''\\n'\n",
        "'Sua opção é: ')))\n",
        "#Fim do show"
      ]
    },
    {
      "cell_type": "markdown",
      "metadata": {
        "id": "Z6hC2aYdrZo0"
      },
      "source": [
        "# Um Menu Personalizado\n",
        "### Com cores"
      ]
    },
    {
      "cell_type": "code",
      "execution_count": null,
      "metadata": {
        "colab": {
          "base_uri": "https://localhost:8080/"
        },
        "id": "Oj5kk4Rqrvpb",
        "outputId": "2ea727ba-7d62-457e-a66d-f92b8ef448e4"
      },
      "outputs": [
        {
          "name": "stdout",
          "output_type": "stream",
          "text": [
            "\u001b[36m-=>\u001b[m \u001b[1mOlá, Sr/Srta\u001b[1;37m... \u001b[mMateus\n",
            "\u001b[1;36m-=>\u001b[m\u001b[1;36m-=>\u001b[m\u001b[1;36m-=>\u001b[m\u001b[1;36m-=>\u001b[m\u001b[1;36m-=>\u001b[m\u001b[1;36m-=>\u001b[m\u001b[1;36m-=>\u001b[m\u001b[1;36m-=>\u001b[m\u001b[1;36m-=>\u001b[m\u001b[1;36m-=>\u001b[m\u001b[1;36m-=>\u001b[m\u001b[1;36m-=>\u001b[m\u001b[1;36m-=>\u001b[m\u001b[1;36m-=>\u001b[m\u001b[1;36m-=>\u001b[m\u001b[1;36m-=>\u001b[m\u001b[1;36m-=>\u001b[m\u001b[1;36m-=>\u001b[m\u001b[1;36m-=>\u001b[m\u001b[1;36m-=>\u001b[m\u001b[1;36m-=>\u001b[m\u001b[1;36m-=>\u001b[m\u001b[1;36m-=>\u001b[m\u001b[1;36m-=>\u001b[m\u001b[1;36m-=>\u001b[m\u001b[1;36m-=>\u001b[m\u001b[1;36m-=>\u001b[m\u001b[1;36m-=>\u001b[m\u001b[1;36m-=>\u001b[m\u001b[1;36m-=>\u001b[m\u001b[1;36m-=>\u001b[m\u001b[1;36m-=>\u001b[m\u001b[1;36m-=>\u001b[m\u001b[1;36m-=>\u001b[m\u001b[1;36m-=>\u001b[m\u001b[1;36m-=>\u001b[m\u001b[1;36m-=>\u001b[m\u001b[1;36m-=>\u001b[m\u001b[1;36m-=>\u001b[m\u001b[1;36m-=>\u001b[m\n",
            "\u001b[36m-=>\u001b[m \u001b[1mMateus, o que gostaria de saber hj?\n",
            "       \u001b[36m(\u001b[1;31m1\u001b[36m)\u001b[m\u001b[1m Média\u001b[33m................. \u001b[36m(\u001b[1;31m1\u001b[36m)\u001b[m\n",
            "       \u001b[36m(\u001b[1;31m2\u001b[36m)\u001b[m\u001b[1m Tabuada\u001b[33m............... \u001b[36m(\u001b[1;31m2\u001b[36m)\u001b[m\n",
            "       \u001b[36m(\u001b[1;31m3\u001b[36m)\u001b[m\u001b[1m Equação de 1° grau\u001b[33m.... \u001b[36m(\u001b[1;31m3\u001b[36m)\u001b[m\n",
            "       \u001b[36m(\u001b[1;31m4\u001b[36m)\u001b[m\u001b[1m Equação de 2° grau\u001b[33m.... \u001b[36m(\u001b[1;31m4\u001b[36m)\u001b[m\n",
            "       \u001b[36m(\u001b[1;31m5\u001b[36m)\u001b[m\u001b[1m Regra de 3\u001b[33m............ \u001b[36m(\u001b[1;31m5\u001b[36m)\u001b[m\n",
            "       \u001b[36m(\u001b[1;31m6\u001b[36m)\u001b[m\u001b[1m Porcentagem\u001b[33m........... \u001b[36m(\u001b[1;31m6\u001b[36m)\u001b[m\n",
            "       \u001b[36m(\u001b[1;31m7\u001b[36m)\u001b[m\u001b[1m Montante - juros comp. \u001b[36m(\u001b[1;31m7\u001b[36m)\u001b[m\n",
            "       \u001b[36m(\u001b[1;31m8\u001b[36m)\u001b[m\u001b[1m Pitágoras - hipotenusa \u001b[36m(\u001b[1;31m8\u001b[36m)\u001b[m\n",
            "       \u001b[36m(\u001b[1;31m9\u001b[36m)\u001b[m\u001b[1m Operações com log\u001b[33m..... \u001b[36m(\u001b[1;31m9\u001b[36m)\u001b[m\n",
            "      \u001b[36m(\u001b[1;31m10\u001b[36m)\u001b[m\u001b[1m Depósito mensal\u001b[33m....... \u001b[36m(\u001b[1;31m10\u001b[36m)\u001b[m\n",
            " \u001b[36m-=>\u001b[m \u001b[1mSua opção é: \u001b[m1\n",
            "\u001b[1;36m-=>\u001b[m\u001b[1;36m-=>\u001b[m\u001b[1;36m-=>\u001b[m\u001b[1;36m-=>\u001b[m\u001b[1;36m-=>\u001b[m\u001b[1;36m-=>\u001b[m\u001b[1;36m-=>\u001b[m\u001b[1;36m-=>\u001b[m\u001b[1;36m-=>\u001b[m\u001b[1;36m-=>\u001b[m\u001b[1;36m-=>\u001b[m\u001b[1;36m-=>\u001b[m\u001b[1;36m-=>\u001b[m\u001b[1;36m-=>\u001b[m\u001b[1;36m-=>\u001b[m\u001b[1;36m-=>\u001b[m\u001b[1;36m-=>\u001b[m\u001b[1;36m-=>\u001b[m\u001b[1;36m-=>\u001b[m\u001b[1;36m-=>\u001b[m\u001b[1;36m-=>\u001b[m\u001b[1;36m-=>\u001b[m\u001b[1;36m-=>\u001b[m\u001b[1;36m-=>\u001b[m\u001b[1;36m-=>\u001b[m\u001b[1;36m-=>\u001b[m\u001b[1;36m-=>\u001b[m\u001b[1;36m-=>\u001b[m\u001b[1;36m-=>\u001b[m\u001b[1;36m-=>\u001b[m\u001b[1;36m-=>\u001b[m\u001b[1;36m-=>\u001b[m\u001b[1;36m-=>\u001b[m\u001b[1;36m-=>\u001b[m\u001b[1;36m-=>\u001b[m\u001b[1;36m-=>\u001b[m\u001b[1;36m-=>\u001b[m\u001b[1;36m-=>\u001b[m\u001b[1;36m-=>\u001b[m\u001b[1;36m-=>\u001b[m\n",
            "\u001b[36m-=>\u001b[m \u001b[1mOk Mateus! Quantas notas irão compor a média? \u001b[m3\n",
            "\n",
            "Digite uma nota: 7.5\n",
            "Digite a outra nota: 10\n",
            "Digite a outra nota: 9\n",
            "\u001b[36m-=\u001b[m\u001b[36m-=\u001b[m\u001b[36m-=\u001b[m\u001b[36m-=\u001b[m\u001b[36m-=\u001b[m\u001b[36m-=\u001b[m\u001b[36m-=\u001b[m\u001b[36m-=\u001b[m\u001b[36m-=\u001b[m\u001b[36m-=\u001b[m\u001b[36m-=\u001b[m\u001b[36m-=\u001b[m\u001b[36m-=\u001b[m\u001b[36m-=\u001b[m\u001b[36m-=\u001b[m\u001b[36m-=\u001b[m\u001b[36m-=\u001b[m\u001b[36m-=\u001b[m\u001b[36m-=\u001b[m\u001b[36m-=\u001b[m\u001b[36m-=\u001b[m\u001b[36m-=\u001b[m\u001b[36m-=\u001b[m\u001b[36m-=\u001b[m\u001b[36m-=\u001b[m\n",
            "\u001b[1mMateus, a média das suas notas é \u001b[m\u001b[1;35m8.83\u001b[m\n",
            "\u001b[36m-=\u001b[m\u001b[36m-=\u001b[m\u001b[36m-=\u001b[m\u001b[36m-=\u001b[m\u001b[36m-=\u001b[m\u001b[36m-=\u001b[m\u001b[36m-=\u001b[m\u001b[36m-=\u001b[m\u001b[36m-=\u001b[m\u001b[36m-=\u001b[m\u001b[36m-=\u001b[m\u001b[36m-=\u001b[m\u001b[36m-=\u001b[m\u001b[36m-=\u001b[m\u001b[36m-=\u001b[m\u001b[36m-=\u001b[m\u001b[36m-=\u001b[m\u001b[36m-=\u001b[m\u001b[36m-=\u001b[m\u001b[36m-=\u001b[m\u001b[36m-=\u001b[m\u001b[36m-=\u001b[m\u001b[36m-=\u001b[m\u001b[36m-=\u001b[m\u001b[36m-=\u001b[m\n",
            "\u001b[36m-=>\u001b[m \u001b[1mVc gostaria de saber mais algo? \u001b[1;34ms\u001b[m/\u001b[1;34mn\u001b[m: \u001b[m\n",
            "n\n",
            "\n",
            "   \u001b[7m(: Acabamos por aqui! :)\u001b[m\n"
          ]
        }
      ],
      "source": [
        "def mehn(opcao):\n",
        "    \"\"\"\n",
        "    Código em formato de menu, para saber diversas coisas...\n",
        "    \"\"\"\n",
        "    print('\\033[1;36m-=>\\033[m' * 40)\n",
        "\n",
        "    if opcao == 1:\n",
        "        nnotas = int(input(f'\\033[36m-=>\\033[m \\033[1mOk {nome}! Quantas notas irão compor a média? \\033[m'))\n",
        "        notas = float(input('\\n''Digite uma nota: ')),\n",
        "        while len(notas) <= nnotas - 1:\n",
        "            notas += float(input('Digite a outra nota: ')),\n",
        "        print('\\033[36m-=\\033[m' * 25)\n",
        "        notas = sum(notas) / nnotas\n",
        "        notas = '%.2f' % notas\n",
        "        print(f'\\033[1m{nome}, a média das suas notas é \\033[m\\033[1;35m{notas}\\033[m')\n",
        "        print('\\033[36m-=\\033[m' * 25)\n",
        "        # Cálculo da média\n",
        "\n",
        "    elif opcao == 2:\n",
        "        a = 0\n",
        "        b = 10\n",
        "        escolha = int(input(f'\\033[36m-=>\\033[m \\033[1mOk {nome}! Escolha um número para saber a tabuada: \\033[m'))\n",
        "        print('\\033[36m-=>\\033[m' * 24)\n",
        "        while a <= b:\n",
        "            result = escolha * a\n",
        "            print(f'{escolha} \\033[1;37mx\\033[m {a} \\033[31m=\\033[m \\033[35m{result}\\033[m')\n",
        "            a += 1\n",
        "        print('\\033[36m-=\\033[m' * 15)\n",
        "        # Tabuada\n",
        "\n",
        "    elif opcao == 3:\n",
        "        def equacao(a, b, c):\n",
        "            '''\n",
        "            Código que realiza equações do Primeiro grau\n",
        "            '''\n",
        "            x = ((c - b) / a)\n",
        "            print('\\033[36m-=\\033[m' * 11)\n",
        "            print(f'O valor de \\033[1mX\\033[m é igual a \\033[1;35m{x}\\033[m')\n",
        "            return ((a * x) + b) == c\n",
        "\n",
        "        print(f'\\033[36m-=>\\033[m \\033[1mOk {nome}! para a equação de 1° grau no modelo (\\033[34max + b = c\\033[m) Digite\\033[34m...\\033[m')\n",
        "        equacao(float(input('\\nO valor de a: ')),\n",
        "                float(input('O valor de b: ')),\n",
        "                float(input('O resultado c: ')))\n",
        "        print('\\033[36m-=\\033[m' * 11)\n",
        "        # Equacao1°grau\n",
        "\n",
        "    elif opcao == 4:\n",
        "        def equa2(a, b, c):\n",
        "            '''\n",
        "            Código que realiza equações do Segundo grau\n",
        "            '''\n",
        "            raiz = ((b * b) - (4 * a * c)) ** 0.5\n",
        "            x1 = ((b * -1) + raiz) / (2 * a)\n",
        "            x2 = ((b * -1) - raiz) / (2 * a)\n",
        "            print('\\033[36m-=\\033[m' * 15)\n",
        "            if ((a * (x1 * x1)) + (b * x1) + (c)) == 0:\n",
        "                print(f'O valor de X1 é igual a \\033[1;35m{x1}\\033[m')\n",
        "            if ((a * (x2 * x2)) + (b * x2) + (c)) == 0:\n",
        "                print(f'O valor de X2 é igual a \\033[1;35m{x2}\\033[m')\n",
        "            return\n",
        "\n",
        "        print(f'\\033[36m-=>\\033[m \\033[1mOk {nome}! Para saber o valor das raízes:\\033[m')\n",
        "        equa2(float(input('\\nInsira o valor de a: ')),\n",
        "              float(input('Insira o valor de b: ')),\n",
        "              float(input('Insira o valor de c: ')))\n",
        "        print('\\033[36m-=\\033[m' * 15)\n",
        "        # Equacao2°grau\n",
        "\n",
        "    elif opcao == 5:\n",
        "        def r3(a, b, x):\n",
        "            '''\n",
        "            Código para fazer regra de 3 só inserindo os valores\n",
        "            '''\n",
        "            y = (x * b) / a\n",
        "            print('\\033[36m-=\\033[m' * 15)\n",
        "            print(f'O valor de Y é igual a \\033[1;35m{y}\\033[m')\n",
        "            return (a * b) == (x * y)\n",
        "\n",
        "        print(f'\\033[36m-=>\\033[m \\033[1mOk {nome}! Para realizarmos a regra de 3:')\n",
        "        print('Modelo \\033[34ma\\033[1;37m/\\033[34mb \\033[1;37m= \\033[34mx\\033[1;37m/\\033[35my\\033[m')\n",
        "        print('-=' * 3)\n",
        "        r3(float(input('Digite o valor de \\033[34ma\\033[m: ')),\n",
        "           float(input('Digite o valor de \\033[34mb\\033[m: ')),\n",
        "           float(input('Digite o valor de \\033[34mx\\033[m: ')))\n",
        "        print('\\033[36m-=\\033[m' * 15)\n",
        "        # Regrade3\n",
        "\n",
        "    elif opcao == 6:\n",
        "        def percent(a, b):\n",
        "            '''\n",
        "            Código para calcular qualquer porcentagem de um número\n",
        "            '''\n",
        "            b1 = b / 100\n",
        "            c = b1 * a\n",
        "            print('\\033[36m-=\\033[m' * 12)\n",
        "            print(f'\\033[34m{b}%\\033[m de \\033[34m{a}\\033[m é igual a \\033[35m{c}\\033[m')\n",
        "            return\n",
        "\n",
        "        print(f'\\033[36m-=>\\033[m \\033[1mOk {nome}! Para saber a \\033[35m%\\033[m \\033[1mdo número digite:\\033[m')\n",
        "        percent(float(input('\\nNúmero: ')),\n",
        "                float(input('Porcentagem desejada (sem o %): ')))\n",
        "        print('\\033[36m-=\\033[m' * 12)\n",
        "        # Percentagem\n",
        "\n",
        "    elif opcao == 7:\n",
        "        def capit(c, i, t):\n",
        "            '''\n",
        "            Código para se calcular o montante de um capital aplicado a juros compostos\n",
        "            '''\n",
        "            i = i / 100\n",
        "            m = c * ((1 + i) ** t)\n",
        "            r = m - c\n",
        "            m = '%.2f' % m\n",
        "            r = '%.2f' % r\n",
        "            print('\\033[36m-=\\033[m' * 15)\n",
        "            print(f'O valor total do montante será de \\033[34mR$\\033[1;35m{m}\\033[m ')\n",
        "            print(f'Houve um rendimento de \\033[34mR$\\033[35m{r}\\033[m ')\n",
        "            return\n",
        "\n",
        "        print(f'\\033[36m-=>\\033[m \\033[1mOk {nome}!'\n",
        "              f' Para calcular o montante gerado a partir de um único depósito, digite as informações pedidas:\\033[m')\n",
        "        capit(float(input('\\n''Valor do capital inicial (sem o cifrão): ')),\n",
        "              float(input('Taxa de juros mensal  (sem o símbolo %): ')),\n",
        "              float(input('Tempo em meses aplicado: ')))\n",
        "        print('\\033[36m-=\\033[m' * 15)\n",
        "        # Juroscompostos-montante\n",
        "\n",
        "    elif opcao == 8:\n",
        "        def pit(b, c):\n",
        "            '''\n",
        "            Código para calcular pitágoras\n",
        "            '''\n",
        "            a = float(((b ** 2) + (c ** 2)) ** 0.5)\n",
        "            print('\\033[36m-=\\033[m' * 15)\n",
        "            print(f'O valor da hipotenusa é igual a \\033[1;35m{a}\\033[m')\n",
        "            return (b ** 2) + (c ** 2) == a\n",
        "\n",
        "        print(f'\\033[36m-=>\\033[m \\033[1mOk {nome}! Para descobrir a hipotenusa:\\033[m')\n",
        "        pit(float(input('\\nColoque o valor do cateto oposto: ')),\n",
        "            float(input('COloque o valor do cateto adjacente: ')))\n",
        "        print('\\033[36m-=\\033[m' * 15)\n",
        "        # Pitágoras\n",
        "\n",
        "    elif opcao == 9:\n",
        "        def l(x):\n",
        "            \"\"\"\n",
        "            Código com operações de logaritmo\n",
        "            \"\"\"\n",
        "            from math import log\n",
        "            print('\\033[36m-=\\033[m' * 15)\n",
        "            if x == 1:\n",
        "                print('-=' * 16)\n",
        "                escolha = int(input('A soma será entre quantos Log?: '))\n",
        "                print('-=' * 16)\n",
        "                print('A seguir insira as informações:')\n",
        "                print('\\n'' Digite as info do Log')\n",
        "                logs = log(float(input('   Log de: ')),\n",
        "                                float(input('   Na base: '))),\n",
        "                while len(logs) <= escolha - 1:\n",
        "                    print('\\n'' Info do outro Log')\n",
        "                    logs += log(float(input('   Log de: ')),\n",
        "                                     float(input('   Na base: '))),\n",
        "                print('-=' * 14)\n",
        "                print(f'O resultado da soma é = \\033[1;35m{sum(logs)}\\033[m')\n",
        "            elif x == 2:\n",
        "                print('-=' * 19)\n",
        "                esc = int(input('A subtração será entre quantos log?: '))\n",
        "                print('-=' * 19)\n",
        "                print('A seguir insira as informações:')\n",
        "                print('\\n'' Digite as info do Log')\n",
        "                logs = log(float(input('  Log de: ')),\n",
        "                                float(input('  Na base: '))),\n",
        "                while len(logs) <= esc - 1:\n",
        "                    print('\\n'' Info do outro Log')\n",
        "                    logs += (logs[-1]) - log(float(input('  Log de: ')),\n",
        "                                                  float(input('  Na base: '))),\n",
        "                print('-=' * 14)\n",
        "                print(f'O resultado da subtração é \\033[1;35m{logs[len(logs) - 1]}\\033[m')\n",
        "            elif x == 3:\n",
        "                print('-=' * 16)\n",
        "                escol = int(input('Quantos log irão se dividir?: '))\n",
        "                print('-=' * 16)\n",
        "                print('A seguir insira as informações:''\\n''Obs. Atenção na ordem!')\n",
        "                print('\\n'' Digite as info do Log')\n",
        "                logs = log(float(input('  Log de: ')),\n",
        "                                float(input('  Na base: '))),\n",
        "                while len(logs) <= escol - 1:\n",
        "                    print('\\n'' Info do outro Log')\n",
        "                    logs += (logs[-1]) / log(float(input('  Log de: ')),\n",
        "                                                  float(input('  Na base: '))),\n",
        "                print('-=' * 14)\n",
        "                print(f'O resultado da divisão é = \\033[1;35m{logs[len(logs) - 1]}\\033[m')\n",
        "            elif x == 4:\n",
        "                print('-=' * 16)\n",
        "                numero = int(input('Quantos Log irão se multiplicar?: '))\n",
        "                print('-=' * 16)\n",
        "                print('A seguir insira as informações:')\n",
        "                print('\\n'' Digite as info do Log')\n",
        "                logs = log(float(input('   Log de: ')),\n",
        "                                float(input('   Na base: '))),\n",
        "                while len(logs) <= numero - 1:\n",
        "                    print('\\n'' Info do outro Log')\n",
        "                    logs += logs[-1] * log(float(input('   Log de: ')),\n",
        "                                                float(input('   Na base: '))),\n",
        "                print('-=' * 14)\n",
        "                print(f'O resultado da multiplicação é = \\033[1;35m{logs[len(logs) - 1]}\\033[m')\n",
        "\n",
        "            cont = input(f'\\n{nome}, você gostaria de realizar mais alguma operação?''\\n'\n",
        "                         '\\033[34ms\\033[37m/\\033[34mn\\033[m: ')\n",
        "            if cont == 'n':\n",
        "                print('\\n''   Ok! finalizamos as operações com log.')\n",
        "            elif cont == 's':\n",
        "                print('-=' * 15)\n",
        "                l(int(input(f'\\033[36m-=>\\033[m \\033[1mOk {nome}! Escolha qual outra operação irá querer realizar: \\033[m''\\n'\n",
        "                            '   Soma de logaritmo ... (\\033[37m1\\033[m)''\\n'\n",
        "                            '   Subtração de log. ... (\\033[37m2\\033[m)''\\n'\n",
        "                            '   Divisão de log. ..... (\\033[37m3\\033[m)''\\n'\n",
        "                            '   Multiplicação de log. (\\033[37m4\\033[m)''\\n'\n",
        "                            'Sua opção é: ')))\n",
        "            print('\\033[36m-=\\033[m' * 15)\n",
        "            return\n",
        "\n",
        "        l(int(input(f'\\033[36m-=>\\033[m \\033[1mOk {nome}! Escolha qual operação irá querer realizar: \\033[m''\\n'\n",
        "                    '   Soma de logaritmo ... (\\033[37m1\\033[m)''\\n'\n",
        "                    '   Subtração de log. ... (\\033[37m2\\033[m)''\\n'\n",
        "                    '   Divisão de log. ..... (\\033[37m3\\033[m)''\\n'\n",
        "                    '   Multiplicação de log. (\\033[37m4\\033[m)''\\n'\n",
        "                    'Sua opção é: ')))\n",
        "        print('\\033[36m-=\\033[m' * 15)\n",
        "        # Logaritmo\n",
        "\n",
        "    elif opcao == 10:\n",
        "        def val(x, i, t):\n",
        "            \"\"\"\n",
        "            Colocando um valor mensal todos os meses, mais a taxa de rendimento\n",
        "            \"\"\"\n",
        "            i = i / 100\n",
        "            n = x + x * i,\n",
        "            while len(n) <= t - 1:\n",
        "                n += n[-1] + float(x + (x + n[-1]) * i),\n",
        "            print('\\033[36m-=\\033[m' * 15)\n",
        "            f = n[len(n) - 1]\n",
        "            f = '%.2f' % f\n",
        "            print(f'{nome}, o valor total disponível será \\033[34mR$\\033[1;35m{f}\\033[m')\n",
        "            return\n",
        "\n",
        "        print(f'\\033[36m-=>\\033[m \\033[1mOk {nome}! Digite as informações pedidas:\\033[m''\\n'\n",
        "              '\\033[36mObs.\\033[m O calculo será feito somando os valores a cada mês, mais a taxa de rendimento''\\n')\n",
        "        val(float(input('Valor do capital que será depositado mensalmente: ')),\n",
        "            float(input('Taxa de rendimento (sem vírgula e sem o %): ')),\n",
        "            float(input('Quantidade de vezes que depositará: ')))\n",
        "        print('\\033[36m-=\\033[m' * 15)\n",
        "        # Depositando mensalmente a uma taxa\n",
        "\n",
        "    def cont_2(cont_2):\n",
        "        \"\"\"\n",
        "        Finalizar ou Continuar?\n",
        "        \"\"\"\n",
        "        if cont_2 == 'n':\n",
        "            print('\\n''   \\033[7m(: Acabamos por aqui! :)\\033[m')\n",
        "        elif cont_2 == 's':\n",
        "            print('\\033[1;36m-=>\\033[m' * 40)\n",
        "            mehn(int(input(f'\\033[36m-=>\\033[m \\033[1m{nome}, o que mais gostaria de saber hj?''\\n'\n",
        "                           '       \\033[36m(\\033[1;31m1\\033[36m)\\033[m\\033[1m Média'\n",
        "                           '\\033[33m................. \\033[36m(\\033[1;31m1\\033[36m)\\033[m''\\n '\n",
        "                           '      \\033[36m(\\033[1;31m2\\033[36m)\\033[m\\033[1m Tabuada'\n",
        "                           '\\033[33m............... \\033[36m(\\033[1;31m2\\033[36m)\\033[m''\\n '\n",
        "                           '      \\033[36m(\\033[1;31m3\\033[36m)\\033[m\\033[1m Equação de 1° grau'\n",
        "                           '\\033[33m.... \\033[36m(\\033[1;31m3\\033[36m)\\033[m''\\n '\n",
        "                           '      \\033[36m(\\033[1;31m4\\033[36m)\\033[m\\033[1m Equação de 2° grau'\n",
        "                           '\\033[33m.... \\033[36m(\\033[1;31m4\\033[36m)\\033[m''\\n '\n",
        "                           '      \\033[36m(\\033[1;31m5\\033[36m)\\033[m\\033[1m Regra de 3'\n",
        "                           '\\033[33m............ \\033[36m(\\033[1;31m5\\033[36m)\\033[m''\\n '\n",
        "                           '      \\033[36m(\\033[1;31m6\\033[36m)\\033[m\\033[1m Porcentagem'\n",
        "                           '\\033[33m........... \\033[36m(\\033[1;31m6\\033[36m)\\033[m''\\n '\n",
        "                           '      \\033[36m(\\033[1;31m7\\033[36m)\\033[m\\033[1m Montante - juros comp.'\n",
        "                           ' \\033[36m(\\033[1;31m7\\033[36m)\\033[m''\\n '\n",
        "                           '      \\033[36m(\\033[1;31m8\\033[36m)\\033[m\\033[1m Pitágoras - hipotenusa'\n",
        "                           ' \\033[36m(\\033[1;31m8\\033[36m)\\033[m''\\n '\n",
        "                           '      \\033[36m(\\033[1;31m9\\033[36m)\\033[m\\033[1m Operações com log'\n",
        "                           '\\033[33m..... \\033[36m(\\033[1;31m9\\033[36m)\\033[m''\\n '\n",
        "                           '     \\033[36m(\\033[1;31m10\\033[36m)\\033[m\\033[1m Depósito mensal'\n",
        "                           '\\033[33m....... \\033[36m(\\033[1;31m10\\033[36m)\\033[m''\\n '\n",
        "                           '\\033[36m-=>\\033[m \\033[1mSua opção é: \\033[m')))\n",
        "        else:\n",
        "            while cont_2 != ('s') or ('n'):\n",
        "                print('\\033[36m-=>\\033[m \\033[1;31mError!\\033[m Nenhuma opção reconhecida. ')\n",
        "                cont_2 = input('Digite apenas (\\033[1;34ms\\033[m) para sim ou (\\033[1;34mn\\033[m) para não: ')\n",
        "                if cont_2 == 'n':\n",
        "                    print('\\n''   \\033[7m(: Acabamos por aqui! :)\\033[m')\n",
        "                    break\n",
        "                elif cont_2 == 's':\n",
        "                    print('\\033[1;36m-=>\\033[m' * 40)\n",
        "                    mehn(int(input(f'\\033[36m-=>\\033[m \\033[1m{nome}, o que mais gostaria de saber hj?''\\n'\n",
        "                                   '       \\033[36m(\\033[1;31m1\\033[36m)\\033[m\\033[1m Média'\n",
        "                                   '\\033[33m................. \\033[36m(\\033[1;31m1\\033[36m)\\033[m''\\n '\n",
        "                                   '      \\033[36m(\\033[1;31m2\\033[36m)\\033[m\\033[1m Tabuada'\n",
        "                                   '\\033[33m............... \\033[36m(\\033[1;31m2\\033[36m)\\033[m''\\n '\n",
        "                                   '      \\033[36m(\\033[1;31m3\\033[36m)\\033[m\\033[1m Equação de 1° grau'\n",
        "                                   '\\033[33m.... \\033[36m(\\033[1;31m3\\033[36m)\\033[m''\\n '\n",
        "                                   '      \\033[36m(\\033[1;31m4\\033[36m)\\033[m\\033[1m Equação de 2° grau'\n",
        "                                   '\\033[33m.... \\033[36m(\\033[1;31m4\\033[36m)\\033[m''\\n '\n",
        "                                   '      \\033[36m(\\033[1;31m5\\033[36m)\\033[m\\033[1m Regra de 3'\n",
        "                                   '\\033[33m............ \\033[36m(\\033[1;31m5\\033[36m)\\033[m''\\n '\n",
        "                                   '      \\033[36m(\\033[1;31m6\\033[36m)\\033[m\\033[1m Porcentagem'\n",
        "                                   '\\033[33m........... \\033[36m(\\033[1;31m6\\033[36m)\\033[m''\\n '\n",
        "                                   '      \\033[36m(\\033[1;31m7\\033[36m)\\033[m\\033[1m Montante - juros comp.'\n",
        "                                   ' \\033[36m(\\033[1;31m7\\033[36m)\\033[m''\\n '\n",
        "                                   '      \\033[36m(\\033[1;31m8\\033[36m)\\033[m\\033[1m Pitágoras - hipotenusa'\n",
        "                                   ' \\033[36m(\\033[1;31m8\\033[36m)\\033[m''\\n '\n",
        "                                   '      \\033[36m(\\033[1;31m9\\033[36m)\\033[m\\033[1m Operações com log'\n",
        "                                   '\\033[33m..... \\033[36m(\\033[1;31m9\\033[36m)\\033[m''\\n '\n",
        "                                   '     \\033[36m(\\033[1;31m10\\033[36m)\\033[m\\033[1m Depósito mensal'\n",
        "                                   '\\033[33m....... \\033[36m(\\033[1;31m10\\033[36m)\\033[m''\\n '\n",
        "                                   '\\033[36m-=>\\033[m \\033[1mSua opção é: \\033[m')))\n",
        "                    break\n",
        "        return\n",
        "\n",
        "    continuar = input('\\033[36m-=>\\033[m \\033[1mVc gostaria de saber mais algo? \\033[1;34ms\\033[m/\\033[1;34mn\\033[m: '\n",
        "                      '\\033[m''\\n')\n",
        "    if continuar == 'n':\n",
        "        print('\\n''   \\033[7m(: Acabamos por aqui! :)\\033[m')\n",
        "    elif continuar == 's':\n",
        "        print('\\033[1;36m-=>\\033[m' * 40)\n",
        "        mehn(int(input(f'\\033[36m-=>\\033[m \\033[1m{nome}, o que mais gostaria de saber hj?''\\n'\n",
        "                       '       \\033[36m(\\033[1;31m1\\033[36m)\\033[m\\033[1m Média'\n",
        "                       '\\033[33m................. \\033[36m(\\033[1;31m1\\033[36m)\\033[m''\\n '\n",
        "                       '      \\033[36m(\\033[1;31m2\\033[36m)\\033[m\\033[1m Tabuada'\n",
        "                       '\\033[33m............... \\033[36m(\\033[1;31m2\\033[36m)\\033[m''\\n '\n",
        "                       '      \\033[36m(\\033[1;31m3\\033[36m)\\033[m\\033[1m Equação de 1° grau'\n",
        "                       '\\033[33m.... \\033[36m(\\033[1;31m3\\033[36m)\\033[m''\\n '\n",
        "                       '      \\033[36m(\\033[1;31m4\\033[36m)\\033[m\\033[1m Equação de 2° grau'\n",
        "                       '\\033[33m.... \\033[36m(\\033[1;31m4\\033[36m)\\033[m''\\n '\n",
        "                       '      \\033[36m(\\033[1;31m5\\033[36m)\\033[m\\033[1m Regra de 3'\n",
        "                       '\\033[33m............ \\033[36m(\\033[1;31m5\\033[36m)\\033[m''\\n '\n",
        "                       '      \\033[36m(\\033[1;31m6\\033[36m)\\033[m\\033[1m Porcentagem'\n",
        "                       '\\033[33m........... \\033[36m(\\033[1;31m6\\033[36m)\\033[m''\\n '\n",
        "                       '      \\033[36m(\\033[1;31m7\\033[36m)\\033[m\\033[1m Montante - juros comp.'\n",
        "                       ' \\033[36m(\\033[1;31m7\\033[36m)\\033[m''\\n '\n",
        "                       '      \\033[36m(\\033[1;31m8\\033[36m)\\033[m\\033[1m Pitágoras - hipotenusa'\n",
        "                       ' \\033[36m(\\033[1;31m8\\033[36m)\\033[m''\\n '\n",
        "                       '      \\033[36m(\\033[1;31m9\\033[36m)\\033[m\\033[1m Operações com log'\n",
        "                       '\\033[33m..... \\033[36m(\\033[1;31m9\\033[36m)\\033[m''\\n '\n",
        "                       '     \\033[36m(\\033[1;31m10\\033[36m)\\033[m\\033[1m Depósito mensal'\n",
        "                       '\\033[33m....... \\033[36m(\\033[1;31m10\\033[36m)\\033[m''\\n '\n",
        "                       '\\033[36m-=>\\033[m \\033[1mSua opção é: \\033[m')))\n",
        "    else:\n",
        "        cont_2(input('\\033[36m-=>\\033[m \\033[1mOps! digite apenas (\\033[1;34ms\\033[m) para sim ou (\\033[1;34mn\\033[m)'\n",
        "                     ' para não: \\033[m''\\n'))\n",
        "\n",
        "    return  # def mehn(opcao) #função inicial\n",
        "\n",
        "\n",
        "nome = input('\\033[36m-=>\\033[m \\033[1mOlá, Sr/Srta\\033[1;37m... \\033[m')\n",
        "print('\\033[1;36m-=>\\033[m' * 40)\n",
        "mehn(int(input(f'\\033[36m-=>\\033[m \\033[1m{nome}, o que gostaria de saber hj?''\\n'\n",
        "               '       \\033[36m(\\033[1;31m1\\033[36m)\\033[m\\033[1m Média'\n",
        "               '\\033[33m................. \\033[36m(\\033[1;31m1\\033[36m)\\033[m''\\n '\n",
        "               '      \\033[36m(\\033[1;31m2\\033[36m)\\033[m\\033[1m Tabuada'\n",
        "               '\\033[33m............... \\033[36m(\\033[1;31m2\\033[36m)\\033[m''\\n '\n",
        "               '      \\033[36m(\\033[1;31m3\\033[36m)\\033[m\\033[1m Equação de 1° grau'\n",
        "               '\\033[33m.... \\033[36m(\\033[1;31m3\\033[36m)\\033[m''\\n '\n",
        "               '      \\033[36m(\\033[1;31m4\\033[36m)\\033[m\\033[1m Equação de 2° grau'\n",
        "               '\\033[33m.... \\033[36m(\\033[1;31m4\\033[36m)\\033[m''\\n '\n",
        "               '      \\033[36m(\\033[1;31m5\\033[36m)\\033[m\\033[1m Regra de 3'\n",
        "               '\\033[33m............ \\033[36m(\\033[1;31m5\\033[36m)\\033[m''\\n '\n",
        "               '      \\033[36m(\\033[1;31m6\\033[36m)\\033[m\\033[1m Porcentagem'\n",
        "               '\\033[33m........... \\033[36m(\\033[1;31m6\\033[36m)\\033[m''\\n '\n",
        "               '      \\033[36m(\\033[1;31m7\\033[36m)\\033[m\\033[1m Montante - juros comp.'\n",
        "               ' \\033[36m(\\033[1;31m7\\033[36m)\\033[m''\\n '\n",
        "               '      \\033[36m(\\033[1;31m8\\033[36m)\\033[m\\033[1m Pitágoras - hipotenusa'\n",
        "               ' \\033[36m(\\033[1;31m8\\033[36m)\\033[m''\\n '\n",
        "               '      \\033[36m(\\033[1;31m9\\033[36m)\\033[m\\033[1m Operações com log'\n",
        "               '\\033[33m..... \\033[36m(\\033[1;31m9\\033[36m)\\033[m''\\n '\n",
        "               '     \\033[36m(\\033[1;31m10\\033[36m)\\033[m\\033[1m Depósito mensal'\n",
        "               '\\033[33m....... \\033[36m(\\033[1;31m10\\033[36m)\\033[m''\\n '\n",
        "               '\\033[36m-=>\\033[m \\033[1mSua opção é: \\033[m')))"
      ]
    },
    {
      "cell_type": "markdown",
      "metadata": {
        "id": "oW77HRrk_p0S"
      },
      "source": [
        "# Alguns desafios by Curso em Video\n",
        "### Exemplos de Manipulação de Strings"
      ]
    },
    {
      "cell_type": "code",
      "execution_count": null,
      "metadata": {
        "colab": {
          "base_uri": "https://localhost:8080/"
        },
        "id": "fydkGSLP_rlY",
        "outputId": "c7da2562-506b-4f4b-b8b1-c4565776dc62"
      },
      "outputs": [
        {
          "name": "stdout",
          "output_type": "stream",
          "text": [
            "Digite seu nome completo: Mateus Ortega Mendes\n",
            "Seu nome com todas as letras maiúsculas: MATEUS ORTEGA MENDES\n",
            "Seu nome com todas as letras minúsculas: mateus ortega mendes\n",
            "Seu nome completo tem 18 letras\n",
            "Seu primeiro nome tem 6 letras\n",
            "Digite um número(0-9999): 1572\n",
            "\n",
            "Unidade: 2\n",
            "Dezena: 7\n",
            "Centena: 5\n",
            "Milhar: 1\n",
            "Digite o nome de uma cidade: Santo andre\n",
            "O nome da cidade começa com Santo\n",
            "Digite seu nome completo: Mateus Ortega Mendes\n",
            "Não tem Silva no nome\n",
            "Digite uma frase qualquer: O rato roeu a roupa do rei de roma\n",
            "A letra A apareceu 4 vezes\n",
            "Apareceu a primeira vez na posição 3\n",
            "Apareceu a última vez na posição 33\n",
            "Digite seu nome completo: Mateus Ortega Mendes\n",
            "Seu primeiro nome é Mateus, e seu último nome é Mendes.\n"
          ]
        }
      ],
      "source": [
        "\"\"\" Exemplos de mapipulação de strings\n",
        "  frase = 'Curso em video Python'\n",
        "  print(frase)                             #  <=- COMANDOS -=>  #  Obs. Sempre colocar o nome da variavel antes do ponto para indicar onde será feita a mudança\n",
        "  print(frase.replace('Curso', 'Aulas'))   # .replace()         #  substitui caracteres, primeiro indicar os elementos que irão ser substituidos, em seguida o que colocará: frase.replace('Medo', 'Coragem')\n",
        "  print(frase.upper())                     # .upper()           #  deixa todos os caracteres maiusculos\n",
        "  print(frase.lower())                     # .lower()           #  deixa todos os caracteres minusculos\n",
        "  print(frase.capitalize())                # .capitalize()      #  deixa apenas o primeiro caracter maiusculo\n",
        "  print(frase.title())                     # .title()           #  deixa todos os primeiros caracteres de cada palavra maiusculo\n",
        "  print(frase.count('e'))                  # .count()           #  conta quantos dos caracteres existem na variavel. Colocar entre aspas o que quer pesquisar: frase.count('a')\n",
        "  print(frase.find('e'))                   # .find()            #  mostra a posição em q o primeiro caracter achado está. Colocar entre aspas o que quer pesquisar: frase.find('a')\n",
        "  print('Curso' in frase)                  # 'qlr' in variavel  #  retorna True se existir esses caracteres na string, e False se não houver\n",
        "  print('\\n')\n",
        "\n",
        "  phrase = '    Qualquer Coisa ao quadrado   '\n",
        "  print(phrase, len(phrase))                         # len(variavel)     #  Conta e retorna o número de elementos da variavel\n",
        "  print(phrase.strip(), len(phrase.strip()))         # .strip()          #  Remove todos os espaços inúteis do começo e do final da string\n",
        "  print(phrase.rstrip(), len(phrase.rstrip()))       # .rstrip()         #  Remove apenas os espaços da direita, a diferença é o 'r' antes do comando (r = right)\n",
        "  print(phrase.lstrip(), len(phrase.lstrip()))       # .lstrip()         #  De forma semelhante, remove apenas os elementos vazios da esquerda (l = left)\n",
        "  print('\\n')\n",
        "\n",
        "  word = 'Olhou as palavras'\n",
        "  print(word)\n",
        "  print(word.replace('Olhou', 'Separou').split())    # .split()          #  Pega todos os elementos q estão separados por um espaço, e cria uma lista com cada um\n",
        "  word = word.replace('Olhou', 'Juntou').split()\n",
        "  print('-'.join(word))                              # ''.join(variavel) #  Junta os elementos, é bom testar para entender como funciona a junção.\n",
        "                                                                           entre as aspas colocar o que estará entre os elementos, se for um espaço: ' '\n",
        "\"\"\"\n",
        "\n",
        "\n",
        "# Desafio nome\n",
        "\"\"\"Programa q lê o nome completo de uma pessoa, e:\n",
        "o nome com todas as letras maiusculas,\n",
        "todas minusculas,\n",
        "quantas letras ao todo(sem espaços),\n",
        "quantas letras tem o primeiro nome.\n",
        "\"\"\"\n",
        "nome = str(input('Digite seu nome completo: '))\n",
        "\n",
        "mai = nome.upper()\n",
        "print(f'Seu nome com todas as letras maiúsculas: {mai}')\n",
        "minu = nome.lower()\n",
        "print(f'Seu nome com todas as letras minúsculas: {minu}')\n",
        "q = nome.split()\n",
        "r = ''.join(q)\n",
        "print(f'Seu nome completo tem {len(r)} letras')\n",
        "s = nome.split()\n",
        "c = s[0]\n",
        "print(f'Seu primeiro nome tem {len(c)} letras')\n",
        "\n",
        "\n",
        "\n",
        "print('-=>'*15)\n",
        "# Desafio numero\n",
        "\"\"\"Programa q lê qualquer número de 0 a 9999\n",
        "e mostre na tela cada um dos digitos separados\n",
        "\"\"\"\n",
        "numero = str(input('Digite um número(0-9999): '))\n",
        "numero = numero[::-1]\n",
        "if len(numero) == 1:\n",
        "      print(f'\\nUnidade: {numero[0]}')\n",
        "\n",
        "elif len(numero) == 2:\n",
        "      print(f'\\nUnidade: {numero[0]}\\n'\n",
        "            f'Dezena: {numero[1]}')\n",
        "\n",
        "elif len(numero) == 3:\n",
        "      print(f'\\nUnidade: {numero[0]}\\n'\n",
        "            f'Dezena: {numero[1]}\\n'\n",
        "            f'Centena: {numero[2]}')\n",
        "\n",
        "\n",
        "elif len(numero) == 4:\n",
        "      print(f'\\nUnidade: {numero[0]}\\n'\n",
        "            f'Dezena: {numero[1]}\\n'\n",
        "            f'Centena: {numero[2]}\\n'\n",
        "            f'Milhar: {numero[3]}')\n",
        "\n",
        "\n",
        "print('-=>'*15)\n",
        "# Desafio\n",
        "\"\"\"Programa que diz se a cidade tem SANTO no nome\n",
        "\"\"\"\n",
        "city = str(input('Digite o nome de uma cidade: ')).upper()\n",
        "p = city.find('SANTO')\n",
        "if p == 0:\n",
        "    print('O nome da cidade começa com Santo')\n",
        "else:\n",
        "    print('O nome da cidade não começa Santo')\n",
        "\n",
        "\n",
        "\n",
        "print('-=>'*15)\n",
        "# Desafio\n",
        "\"\"\"Programa que lê o nome de uma pessoa e diz se ela tem Silva ou não no nome\n",
        "\"\"\"\n",
        "nome = str(input('Digite seu nome completo: ')).upper()\n",
        "l = 'SILVA' in nome\n",
        "if l:\n",
        "    print('Tem Silva no nome')\n",
        "else:\n",
        "    print('Não tem Silva no nome')\n",
        "\n",
        "\n",
        "\n",
        "print('-=>'*15)\n",
        "# Desafio\n",
        "\"\"\"Programa que lê uma frase digitada pelo usuário, e mostra:\n",
        "Quantas vezes aparece 'a',\n",
        "Posição em que apareceu a primeira vez,\n",
        "Posição em que apareceu pela última vez\n",
        "\"\"\"\n",
        "digit = str(input('Digite uma frase qualquer: '))\n",
        "x = digit.lower().count('a')\n",
        "print(f'A letra A apareceu {x} vezes')\n",
        "y = digit.lower().find('a')\n",
        "print(f'Apareceu a primeira vez na posição {y}')\n",
        "z = digit.lower().rfind('a')\n",
        "print(f'Apareceu a última vez na posição {z}')\n",
        "\n",
        "\n",
        "\n",
        "print('-=>'*15)\n",
        "# Desafio\n",
        "\"\"\"Programa que le o nome que a pessoa digitou,\n",
        " e diz o primeiro e o ultimo nome dela\n",
        "\"\"\"\n",
        "name = str(input('Digite seu nome completo: '))\n",
        "print(f'Seu primeiro nome é {name.split()[0]},'\n",
        "      f' e seu último nome é {name.split()[-1]}.')\n"
      ]
    },
    {
      "cell_type": "markdown",
      "metadata": {
        "id": "XdS6-7wbO_3w"
      },
      "source": [
        "# Mais desafios by Curso em Video"
      ]
    },
    {
      "cell_type": "code",
      "execution_count": null,
      "metadata": {
        "colab": {
          "base_uri": "https://localhost:8080/"
        },
        "id": "64IlWpj-PIXF",
        "outputId": "b6ce6289-d1af-4223-e671-bb850f84a249"
      },
      "outputs": [
        {
          "name": "stdout",
          "output_type": "stream",
          "text": [
            "De 0 a 5, digite o numero que acha q o computador escolheu: 3\n",
            "Infelizmente vc errou! O numero era 4\n",
            "-=>-=>-=>-=>-=>-=>-=>-=>-=>-=>-=>-=>-=>-=>-=>\n",
            "Pense hipoteticamente e informe a velocidade do seu carro (apenas numeros): 85\n",
            "Voce ultrapassou o limite de velocidade (80Km/h) e foi multado!\n",
            "O valor da multa será de R$35\n",
            "-=>-=>-=>-=>-=>-=>-=>-=>-=>-=>-=>-=>-=>-=>-=>\n",
            "Digite um numero para saber se é impar ou par: 7\n",
            "7.0 é um número Ímpar!\n",
            "-=>-=>-=>-=>-=>-=>-=>-=>-=>-=>-=>-=>-=>-=>-=>\n",
            "Pensando hipoteticamente, digite de quantos Km será sua viagem: 456\n",
            "O valor da passagem será R$205.20000000000002\n",
            "-=>-=>-=>-=>-=>-=>-=>-=>-=>-=>-=>-=>-=>-=>-=>\n",
            "Digite um ano qualquer, para saber se ele é ou não um ano bissexto: 2022\n",
            "2022 não é um ano bissexto!\n",
            "-=>-=>-=>-=>-=>-=>-=>-=>-=>-=>-=>-=>-=>-=>-=>\n",
            "Digite um número: 56\n",
            "Digite outro número: 54\n",
            "Digite o último número: 55\n",
            "O maior desses números é 56.0\n",
            "E o menor desses números é 54.0\n",
            "-=>-=>-=>-=>-=>-=>-=>-=>-=>-=>-=>-=>-=>-=>-=>\n",
            "Hipoteticamente, informe seu salário para saber seu aumento: 1200\n",
            "Voce receberá um aumento de R$180.0\n",
            "-=>-=>-=>-=>-=>-=>-=>-=>-=>-=>-=>-=>-=>-=>-=>\n",
            "Analisador de Triangulos \n",
            "\n",
            "Digite o comprimento de uma reta qualquer: 6\n",
            "Digite de outra: 8\n",
            "Digite da última: 10\n",
            "\n",
            "É possível formar um triangulo com estas retas\n"
          ]
        }
      ],
      "source": [
        "          # Desafio advinhacao\n",
        "\"\"\"Programa que faca o computador pensar em um numero de 0 a 5,\n",
        " e pedir para o usuario advinhar, escrevendo se acertou ou nao\n",
        "\"\"\"\n",
        "from random import choice\n",
        "numero = [0, 1, 2, 3, 4, 5]\n",
        "num = choice(numero)\n",
        "escolha = int(input('De 0 a 5, digite o numero que acha q o computador escolheu: '))\n",
        "if escolha == num:\n",
        "  print('Parabens! Voce acertou')\n",
        "else:\n",
        "  print('Infelizmente vc errou! O numero era {}'.format(num))\n",
        "\n",
        "\n",
        "print('-=>'*15)\n",
        "\n",
        "          # Desafio da multa\n",
        "\"\"\"Programa que le a velocidade de um carro.\n",
        "Se o carro estiver até 80km/h, nao mostrar nada.\n",
        "Se o carro ultrapassar essa velocidade, informar que foi multado.\n",
        "A multa foi custar 7 reais para cada Km acima do limite\n",
        "\"\"\"\n",
        "vel = int (input('Pense hipoteticamente e informe a velocidade do seu carro (apenas numeros): '))\n",
        "if vel >= 80:\n",
        "  print('Voce ultrapassou o limite de velocidade (80Km/h) e foi multado!')\n",
        "  multa = (vel - 80) * 7\n",
        "  print(f'O valor da multa será de R${multa}')\n",
        "else:\n",
        "  print('Voce está dentro do limite de velocidade (80Km/h)')\n",
        "\n",
        "\n",
        "print('-=>'*15)\n",
        "\n",
        "          # Desafio par ou Impar\n",
        "\"\"\"Programa que le um numero e diz se ele é par ou impar\n",
        "\"\"\"\n",
        "number = float (input('Digite um numero para saber se é impar ou par: '))\n",
        "if number % 2 == 0:\n",
        "  print(f'{number} é um número Par!')\n",
        "else:\n",
        "  print(f'{number} é um número Ímpar!')\n",
        "\n",
        "\n",
        "print('-=>'*15)\n",
        "\n",
        "          # Desafio da viagem\n",
        "\"\"\"Programa que pergunta a distancia da viagem em Km para informar o gasto que haverá.\n",
        "Obs. Para viagens até 200Km, a passagem custa R$0.50 por cada Km\n",
        "Acima disso, R$0.45\n",
        "\"\"\"\n",
        "dist = int (input('Pensando hipoteticamente, digite de quantos Km será sua viagem: '))\n",
        "if dist >= 200:\n",
        "  print(f'O valor da passagem será R${dist * 0.45}')\n",
        "else:\n",
        "  print(f'O valor da passagem será R${dist * 0.50}')\n",
        "\n",
        "\n",
        "print('-=>'*15)\n",
        "\n",
        "          # Desafio do Ano bissexto\n",
        "\"\"\"Programa que le um ano qualquer, e diz se ele é ou nao um ano bissexto\n",
        "\"\"\"\n",
        "ano = int (input('Digite um ano qualquer, para saber se ele é ou não um ano bissexto: '))\n",
        "if ano % 4 == 0:\n",
        "  print(f'{ano} é um ano bissexto!')\n",
        "else:\n",
        "  print(f'{ano} não é um ano bissexto!')\n",
        "\n",
        "\n",
        "print('-=>'*15)\n",
        "\n",
        "          # Desafio\n",
        "\"\"\"Programa que le 3 numeros e diz qual o maior e qual o menor\n",
        "\"\"\"\n",
        "n1 = float (input('Digite um número: '))\n",
        "n2 = float (input('Digite outro número: '))\n",
        "n3 = float (input('Digite o último número: '))\n",
        "if n1 > n2 and n1 > n3:\n",
        "  print(f'O maior desses números é {n1}')\n",
        "  if n2 > n3:\n",
        "    print(f'E o menor desses número é {n3}')\n",
        "  else:\n",
        "    print(f'E o menor desses números é {n2}')\n",
        "if n2 > n1 and n2 > n3:\n",
        "  print(f'O maior número entre esses é o {n2}')\n",
        "  if n1 > n3:\n",
        "    print(f'E o menor número entre esses é o {n3}')\n",
        "  else:\n",
        "    print(f'E o menor número entre esses é o {n1}')\n",
        "if n3 > n1 and n3 > n2:\n",
        "  print(f'O maior número é o {n3}')\n",
        "  if n1 > n2:\n",
        "    print(f'E o menor número é o {n2}')\n",
        "  else:\n",
        "    print(f'E o menor número é o {n1}')\n",
        "\n",
        "\n",
        "print('-=>'*15)\n",
        "\n",
        "          # Desafio do aumento\n",
        "\"\"\"Programa que le o salario de um funcionario e informa seu aumento.\n",
        "Para salarios superiores a R$1250.00 o aumento é de 10%\n",
        "Aos inferiores à R$1250.00 o aumento é de 15%\n",
        "\"\"\"\n",
        "salario = float (input('Hipoteticamente, informe seu salário para saber seu aumento: '))\n",
        "if salario >= 1250:\n",
        "  aumento = salario * 0.10\n",
        "  print(f'Voce receberá um aumento de R${aumento}')\n",
        "else:\n",
        "  aumento = salario * 0.15\n",
        "  print(f'Voce receberá um aumento de R${aumento}')\n",
        "\n",
        "\n",
        "print('-=>'*15)\n",
        "\n",
        "          # Desafio do triangulo\n",
        "\"\"\"Programa que pergunta o comprimento de 3 retas, e diz se pode formar um triangulo\n",
        "\"\"\"\n",
        "print('Analisador de Triangulos \\n')\n",
        "r1 = float (input('Digite o comprimento de uma reta qualquer: '))\n",
        "r2 = float (input('Digite de outra: '))\n",
        "r3 = float (input('Digite da última: '))\n",
        "if r1 < r2 + r3 and r2 < r1 + r3 and r3 < r1 + r2:\n",
        "  print('\\nÉ possível formar um triangulo com estas retas')\n",
        "else:\n",
        "  print('\\nNão é possível formar um triangulo com  estas retas')"
      ]
    },
    {
      "cell_type": "markdown",
      "metadata": {
        "id": "k1d4SyCMsWeu"
      },
      "source": [
        "### Desafio Curso em Vídeo"
      ]
    },
    {
      "cell_type": "code",
      "execution_count": null,
      "metadata": {
        "colab": {
          "base_uri": "https://localhost:8080/"
        },
        "id": "3fS6vQ0RSpSz",
        "outputId": "d538f411-44a0-4f20-91b2-c4e5452165aa"
      },
      "outputs": [
        {
          "name": "stdout",
          "output_type": "stream",
          "text": [
            "Digite o ano de seu nascimento: 2003\n",
            "Categoria \u001b[33mJunior\u001b[m\n"
          ]
        }
      ],
      "source": [
        "from datetime import date\n",
        "\n",
        "data = int(input('Digite o ano de seu nascimento: '))\n",
        "idade = date.today().year - data\n",
        "\n",
        "if idade <= 9:\n",
        "    print('Categoria {}Mirim{}'.format('\\033[31m', '\\033[m'))\n",
        "elif idade <= 14:\n",
        "    print('Categoria {}Infantil{}'.format('\\033[32m', '\\033[m'))\n",
        "elif idade <= 19:\n",
        "    print('Categoria {}Junior{}'.format('\\033[33m', '\\033[m'))\n",
        "elif idade <= 20:\n",
        "    print('Categoria {}Senior{}'.format('\\033{34m', '\\033[m'))\n",
        "else:\n",
        "    print('Categoria {}Master{}'.format('\\033[35m', '\\033[m'))"
      ]
    },
    {
      "cell_type": "markdown",
      "metadata": {
        "id": "SHmUAMDxZprc"
      },
      "source": [
        "### Desafio Curso em Vídeo"
      ]
    },
    {
      "cell_type": "code",
      "execution_count": null,
      "metadata": {
        "id": "AHJex2LyZsOv"
      },
      "outputs": [],
      "source": [
        "print('\\033[1;35mAnalisador de Triangulos\\033[m \\n')\n",
        "r1 = float(input('Digite o comprimento de uma reta qualquer: '))\n",
        "r2 = float(input('Digite de outra: '))\n",
        "r3 = float(input('Digite da última: '))\n",
        "if r1 < r2 + r3 and r2 < r1 + r3 and r3 < r1 + r2:\n",
        "    print('\\nÉ possível formar um triangulo com estas retas!\\n')\n",
        "    if r1 == r2 and r2 == r3:\n",
        "        print('O triangulo que seria formado é o {}Equilátero{}'.format('\\033[31m', '\\033[m'))\n",
        "    elif r1 != r2 and r2 == r3:\n",
        "        print('O triangulo que seria formado é o {}Isósceles{}'.format('\\033[31m', '\\033[m'))\n",
        "    elif r1 != r3 and r2 == r3:\n",
        "        print('O triangulo que seria formado é o {}Isósceles{}'.format('\\033[31m', '\\033[m'))\n",
        "    elif r2 != r3 and r1 == r3:\n",
        "        print('O triangulo que seria formado é o {}Isósceles{}'.format('\\033[31m', '\\033[m'))\n",
        "    elif r2 != r1 and r1 == r3:\n",
        "        print('O triangulo que seria formado é o {}Isósceles{}'.format('\\033[31m', '\\033[m'))\n",
        "    elif r3 != r1 and r1 == r2:\n",
        "        print('O triangulo que seria formado é o {}Isósceles{}'.format('\\033[31m', '\\033[m'))\n",
        "    elif r3 != r2 and r1 == r2:\n",
        "        print('O triangulo que seria formado é o {}Isósceles{}'.format('\\033[31m', '\\033[m'))\n",
        "    elif r1 != r2 and r2 != r3:\n",
        "        print('O triangulo que seria formado é o {}Escaleno{}'.format('\\033[31m', '\\033[m'))\n",
        "else:\n",
        "    print('\\nNão é possível formar um triangulo com  estas retas')"
      ]
    },
    {
      "cell_type": "markdown",
      "metadata": {
        "id": "o3sYxqD5ha_4"
      },
      "source": [
        "### IMC"
      ]
    },
    {
      "cell_type": "code",
      "execution_count": null,
      "metadata": {
        "colab": {
          "base_uri": "https://localhost:8080/"
        },
        "id": "reZsuSoYhfEi",
        "outputId": "79f3f234-1887-422b-cf6a-ba6f0d3f0494"
      },
      "outputs": [
        {
          "name": "stdout",
          "output_type": "stream",
          "text": [
            "\u001b[34m<=-_\u001b[1;35mPara calcular seu IMC\u001b[34m_-=>\u001b[m\n",
            "\u001b[1;34mInforme sua altura: 1.58\n",
            "Informe seu peso: \u001b[m50\n",
            "\n",
            "\u001b[1;34mIMC\u001b[1;31m= \u001b[1;35m20.03\u001b[m\n",
            "Seu \u001b[1;34mIMC\u001b[m indica\u001b[31m: \u001b[1;36mPeso Ideal\u001b[m\n"
          ]
        }
      ],
      "source": [
        "def imc(a, p):\n",
        "    \"\"\"\n",
        "    Calculando o IMC e mostrando a tabela em que se encaixa\n",
        "    \"\"\"\n",
        "    result = p / (a ** 2)\n",
        "    print('\\n{}IMC{}= {}{:.2f}{}'.format('\\033[1;34m', '\\033[1;31m', '\\033[1;35m', result, '\\033[m'))\n",
        "    if result < 18.5:\n",
        "        print('Seu {}IMC{} indica{}: {}Abaixo do Peso{}'.format('\\033[1;34m', '\\033[m', '\\033[31m', '\\033[1;36m', '\\033[m'))\n",
        "    elif 18.5 <= result < 25:\n",
        "        print('Seu {}IMC{} indica{}: {}Peso Ideal{}'.format('\\033[1;34m', '\\033[m', '\\033[31m', '\\033[1;36m', '\\033[m'))\n",
        "    elif 25 <= result < 30:\n",
        "        print('Seu {}IMC{} indica{}: {}Sobrepeso{}'.format('\\033[1;34m', '\\033[m', '\\033[31m', '\\033[1;36m', '\\033[m'))\n",
        "    elif 30 <= result < 40:\n",
        "        print('Seu {}IMC{} indica{}: {}Obesidade{}'.format('\\033[1;34m', '\\033[m', '\\033[31m', '\\033[1;36m', '\\033[m'))\n",
        "    else:\n",
        "        print('Seu {}IMC{} indica{}: {}Obesidade Mórbida{}'.format('\\033[1;34m', '\\033[31m', '\\033[m', '\\033[1;36m', '\\033[m'))\n",
        "    return\n",
        "\n",
        "\n",
        "print('\\033[34m<=-_\\033[1;35mPara calcular seu IMC\\033[34m_-=>\\033[m')\n",
        "imc(float(input('\\033[1;34mInforme sua altura: ')),\n",
        "    float(input('Informe seu peso: \\033[m')))"
      ]
    },
    {
      "cell_type": "markdown",
      "metadata": {
        "id": "VvxJ2k2G4xHI"
      },
      "source": [
        "### Desafio"
      ]
    },
    {
      "cell_type": "code",
      "execution_count": null,
      "metadata": {
        "id": "Mqq3UxQp42We"
      },
      "outputs": [],
      "source": [
        "val_casa = float(input('Qual o valor da casa? '))\n",
        "sal = float(input('Qual seu salário? '))\n",
        "tempo = float(input('Planeja pagar durante quantos anos? ')) * 12\n",
        "\n",
        "prest = val_casa / tempo\n",
        "\n",
        "if prest > (sal * 0.3):\n",
        "    print('Infelizmente este empréstimo será negado, pois o valor da prestacao excedeu 30% de seu salário!')\n",
        "    nova = val_casa / (sal * 0.3)\n",
        "    falta = nova.__floor__()\n",
        "    tota = nova.__floor__() * (sal * 0.3)\n",
        "    print(f'De acordo com o salário disponível, uma prestacao de 30% do seu salário seria de R${sal * 0.3}')\n",
        "    print(f'O empréstimo seria feito em {nova.__floor__()} prestacoes de R${sal * 0.3}')\n",
        "    if tota == val_casa:\n",
        "        pass\n",
        "    else:\n",
        "        print(f'+ 1 prestacao de R${val_casa - (falta * (sal * 0.3))}')\n",
        "    print('O tempo total seria de {:.2f} anos'.format(nova.__ceil__() / 12))\n",
        "else:\n",
        "    print('As prestacoes mensais ficarão custando R${}'.format(prest))"
      ]
    },
    {
      "cell_type": "markdown",
      "metadata": {
        "id": "telHe6to9zZ9"
      },
      "source": [
        "## Desafio Curso em Vídeo"
      ]
    },
    {
      "cell_type": "code",
      "execution_count": null,
      "metadata": {
        "colab": {
          "base_uri": "https://localhost:8080/"
        },
        "id": "7Z1mOAP393yf",
        "outputId": "2fdface8-09b4-48e3-ca43-58d353319231"
      },
      "outputs": [
        {
          "name": "stdout",
          "output_type": "stream",
          "text": [
            "\u001b[1;33mDigite o \u001b[1;32mValor\u001b[1;33m do produto: \u001b[32mR$1000\n",
            "\u001b[1;33mSelecione o \u001b[1;31mMétodo de Pagamento\u001b[1;33m, dentre as opções abaixo:\n",
            "   (\u001b[31m1\u001b[33m) À vista: \u001b[34mdinheiro/cheque        \u001b[33m(\u001b[31m1\u001b[33m)\n",
            "   (\u001b[31m2\u001b[33m) À vista: \u001b[34mcartão                 \u001b[33m(\u001b[31m2\u001b[33m)\n",
            "   (\u001b[31m3\u001b[33m) Parcelado: \u001b[34m2x no cartão         \u001b[33m(\u001b[31m3\u001b[33m)\n",
            "   (\u001b[31m4\u001b[33m) Parcelado: \u001b[34m3x ou mais no cartão \u001b[33m(\u001b[31m4\u001b[33m)\n",
            "Sua opção é: 2\n",
            "\u001b[37m\\_=-=_/\u001b[m\u001b[37m\\_=-=_/\u001b[m\u001b[37m\\_=-=_/\u001b[m\u001b[37m\\_=-=_/\u001b[m\u001b[37m\\_=-=_/\u001b[m\u001b[37m\\_=-=_/\u001b[m\u001b[37m\\_=-=_/\u001b[m\u001b[37m\\_=-=_/\u001b[m\u001b[37m\\_=-=_/\u001b[m\u001b[37m\\_=-=_/\u001b[m\u001b[37m\\_=-=_/\u001b[m\u001b[37m\\_=-=_/\u001b[m\u001b[37m\\_=-=_/\u001b[m\u001b[37m\\_=-=_/\u001b[m\u001b[37m\\_=-=_/\u001b[m\n",
            "\u001b[1;33mPagando à vista com \u001b[1;34mcartão\u001b[1;33m, haverá um desconto de \u001b[34m5%\u001b[33m !\n",
            "\u001b[37mCalculando, aguarde...\u001b[1;33m\n",
            "   O preco total a ser pago será \u001b[1;32mR$950.0\n"
          ]
        }
      ],
      "source": [
        "#DESAFIO 044\n",
        "\"\"\"\n",
        "Programa que calcula o valor total a ser pago por um produto,\n",
        "considerando o seu preço normal e a condição de pagamento\n",
        "\"\"\"\n",
        "from time import sleep\n",
        "\n",
        "\n",
        "\n",
        "price = float(input('{}Digite o {}Valor{} do produto: \\033[32mR$'.format('\\033[1;33m', '\\033[1;32m', '\\033[1;33m')))\n",
        "method = int(input('{}Selecione o {}Método de Pagamento{}, dentre as opções abaixo:'\n",
        "                   '\\n   (\\033[31m1\\033[33m) À vista: \\033[34mdinheiro/cheque        \\033[33m(\\033[31m1\\033[33m)'\n",
        "                   '\\n   (\\033[31m2\\033[33m) À vista: \\033[34mcartão                 \\033[33m(\\033[31m2\\033[33m)'\n",
        "                   '\\n   (\\033[31m3\\033[33m) Parcelado: \\033[34m2x no cartão         \\033[33m(\\033[31m3\\033[33m)'\n",
        "                   '\\n   (\\033[31m4\\033[33m) Parcelado: \\033[34m3x ou mais no cartão \\033[33m(\\033[31m4\\033[33m)'\n",
        "                   '\\nSua opção é: '.format('\\033[1;33m', '\\033[1;31m', '\\033[1;33m')))\n",
        "\n",
        "print('{}\\_=-=_/{}'.format('\\033[37m', '\\033[m') * 15)\n",
        "if method == 1:\n",
        "    print('{}Pagando à vista com {}dinheiro/cheque{}, haverá um desconto de {}10%{} !'.format('\\033[1;33m',\n",
        "                                                                                              '\\033[1;34m',\n",
        "                                                                                              '\\033[1;33m',\n",
        "                                                                                              '\\033[34m',\n",
        "                                                                                              '\\033[33m'))\n",
        "    print('{}Calculando, aguarde...{}'.format('\\033[37m', '\\033[1;33m'))\n",
        "    sleep(1.5)\n",
        "    print('   O preço total a ser pago será {}R${}'.format('\\033[1;32m', price * 0.9))\n",
        "elif method == 2:\n",
        "    print('{}Pagando à vista com {}cartão{}, haverá um desconto de {}5%{} !'.format('\\033[1;33m', '\\033[1;34m',\n",
        "                                                                                    '\\033[1;33m', '\\033[34m',\n",
        "                                                                                    '\\033[33m'))\n",
        "    print('{}Calculando, aguarde...{}'.format('\\033[37m', '\\033[1;33m'))\n",
        "    sleep(1.5)\n",
        "    print('   O preco total a ser pago será {}R${}'.format('\\033[1;32m', price * 0.95))\n",
        "elif method == 3:\n",
        "    print('{}Pagando em {}2x no cartão{}, o preço total será exatamente o valor do produto !'.format('\\033[1;33m',\n",
        "                                                                                                     '\\033[1;34m',\n",
        "                                                                                                     '\\033[1;33m'))\n",
        "    print('{}Calculando, aguarde...{}'.format('\\033[37m', '\\033[1;33m'))\n",
        "    sleep(1.5)\n",
        "    print('   O preço das parcelas serão de {}R${}'.format('\\033[1;32m', price / 2))\n",
        "elif method == 4:\n",
        "    print('{}Pagando em {}3x ou mais no cartão{}, haverá um juros de {}20%{} !'.format('\\033[1;33m', '\\033[1;34m',\n",
        "                                                                                       '\\033[1;33m', '\\033[34m',\n",
        "                                                                                       '\\033[33m'))\n",
        "    print('{}Calculando, aguarde...{}'.format('\\033[37m', '\\033[1;33m'))\n",
        "    sleep(1.5)\n",
        "    print('   O valor total a ser pago será {}R${}'.format('\\033[1;32m', price * 1.2))"
      ]
    },
    {
      "cell_type": "markdown",
      "metadata": {
        "id": "OLMG7Mmu5oda"
      },
      "source": [
        "## Exercício"
      ]
    }
  ],
  "metadata": {
    "colab": {
      "provenance": [],
      "include_colab_link": true
    },
    "kernelspec": {
      "display_name": "Python 3",
      "name": "python3"
    }
  },
  "nbformat": 4,
  "nbformat_minor": 0
}